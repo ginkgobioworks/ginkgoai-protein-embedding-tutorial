{
 "cells": [
  {
   "cell_type": "markdown",
   "metadata": {},
   "source": [
    "# Deep learning and embeddings\n",
    "\n",
    "Now that we have our dataset and some understanding of the model, let's discuss how to actually train something useful. Let's talk about embeddings!\n",
    "\n",
    "Some of you have probably heard the term \"foundation model.\" This is a deep learning model, usually large and trained on enormous amounts of data, that doesn't have any \"practical\" task other than learning the patterns in the dataset. These patterns can be so complex that humans couldn't realistically come up with them on their own. Models like that will then take, as input, a sequence (in our case, a protein sequence) and output a vector of numbers called an `embedding`. This vector will be packed with information about patterns present in the given sequence. It's not something humans can read, but secondary ML models can effectively use this vector and accurately predict values they're trained to predict.\n",
    "\n",
    "In our case, we have our dataset of temperatures and sequences. As we saw in the previous notebook, we didn't have an easy way to train an XGBoost model that would accurately predict the temperature. In this notebook, we will use Ginkgo's pretrained foundation model called [AA-0](https://www.ginkgobioworks.com/2024/09/17/aa-0-protein-llm-technical-review/) to calculate embeddings for our dataset. We will access this model through our web server (API), allowing you to produce training embeddings without access to GPUs or any specialized hardware."
   ]
  },
  {
   "cell_type": "markdown",
   "metadata": {},
   "source": [
    "We will use a package called [ginkgo-ai-client](https://github.com/ginkgobioworks/ginkgo-ai-client/tree/main) which makes it easier to access the API. You will also need an account and key from the [Ginkgo model API](https://models.ginkgobioworks.ai/), which you can find in the `Settings` tab in the model UI. Save it to an environment variable called `GINKGOAI_API_KEY` in a file somewhere (like a .env file in your home folder) and we'll load it using `dotenv`.\n",
    "\n",
    "Example .env file:\n",
    "```\n",
    "GINKGOAI_API_KEY=abcabc\n",
    "```"
   ]
  },
  {
   "cell_type": "code",
   "execution_count": 1,
   "metadata": {},
   "outputs": [],
   "source": [
    "import dotenv\n",
    "import os\n",
    "env_file = \"../.env\"  # Change this to your .env file location\n",
    "assert os.path.exists(env_file), \"Please create a .env file with your API key\"\n",
    "\n",
    "dotenv.load_dotenv(env_file, override=True)\n",
    "assert os.getenv(\"GINKGOAI_API_KEY\") is not None, \"Please set your API key in the .env file\"\n"
   ]
  },
  {
   "cell_type": "markdown",
   "metadata": {},
   "source": [
    "Now, let's run an example prediction using Ginkgo's AA-0 model."
   ]
  },
  {
   "cell_type": "code",
   "execution_count": 2,
   "metadata": {},
   "outputs": [],
   "source": [
    "from ginkgo_ai_client import (\n",
    "    GinkgoAIClient,\n",
    "    MaskedInferenceQuery,\n",
    "    MeanEmbeddingQuery,\n",
    ")\n",
    "\n",
    "client = GinkgoAIClient()\n",
    "\n",
    "aa0_model = \"ginkgo-aa0-650M\"\n",
    "\n",
    "queries = [\n",
    "    MeanEmbeddingQuery(sequence=\"MLYLRRL\", model=aa0_model),\n",
    "    MeanEmbeddingQuery(sequence=\"MLYRRL\", model=aa0_model),\n",
    "    MeanEmbeddingQuery(sequence=\"MLYLLRRL\", model=aa0_model),\n",
    "]\n",
    "responses = client.send_batch_request(queries)"
   ]
  },
  {
   "cell_type": "code",
   "execution_count": 3,
   "metadata": {},
   "outputs": [
    {
     "data": {
      "text/plain": [
       "[-0.2410384565591812,\n",
       " 0.1118989661335945,\n",
       " -0.3930843770503998,\n",
       " -0.2676232159137726,\n",
       " -0.04871775582432747,\n",
       " -0.1515751630067825,\n",
       " 0.02308034151792526,\n",
       " 0.02247585915029049,\n",
       " -0.03512640669941902,\n",
       " 0.02068932540714741,\n",
       " -0.09789848327636719,\n",
       " -0.09903421998023987,\n",
       " 0.1008697748184204,\n",
       " -0.1763597875833511,\n",
       " -0.610081672668457,\n",
       " 0.07856658846139908,\n",
       " -0.2632047235965729,\n",
       " 0.0639657974243164,\n",
       " -0.1556835174560547,\n",
       " -0.1417402476072311]"
      ]
     },
     "execution_count": 3,
     "metadata": {},
     "output_type": "execute_result"
    }
   ],
   "source": [
    "embeddings = [p.embedding for p in responses]\n",
    "embeddings[0][:20]"
   ]
  },
  {
   "cell_type": "code",
   "execution_count": 4,
   "metadata": {},
   "outputs": [
    {
     "data": {
      "text/plain": [
       "1280"
      ]
     },
     "execution_count": 4,
     "metadata": {},
     "output_type": "execute_result"
    }
   ],
   "source": [
    "len(embeddings[0])"
   ]
  },
  {
   "cell_type": "markdown",
   "metadata": {},
   "source": [
    "As you can see, each sequence, even our example nonsensical one, is a list of 1280 numbers. These numbers are completely inscrutable for humans but, hopefully, packed with information for machines."
   ]
  },
  {
   "cell_type": "code",
   "execution_count": 5,
   "metadata": {},
   "outputs": [],
   "source": [
    "import pandas as pd\n",
    "import numpy as np\n",
    "\n",
    "test_df = pd.read_csv('../data/test_df.csv')\n",
    "train_df = pd.read_csv('../data/train_df.csv')"
   ]
  },
  {
   "cell_type": "markdown",
   "metadata": {},
   "source": [
    "Let's create a tabular dataset for XGBoost. It will be a dataframe with `1281` columns: `1280` for the embedding size and one for the temperature label."
   ]
  },
  {
   "cell_type": "code",
   "execution_count": 6,
   "metadata": {},
   "outputs": [],
   "source": [
    "def get_embeddings(df):\n",
    "    queries = [\n",
    "        MeanEmbeddingQuery(sequence=seq, model=aa0_model) for seq in df[\"sequence\"]\n",
    "    ]\n",
    "    responses = client.send_batch_request(queries)\n",
    "    embeddings = [p.embedding for p in responses]\n",
    "\n",
    "    embedding_names = [f\"e-{i}\" for i, emb in enumerate(embeddings[0])]\n",
    "    embeddings_df = pd.DataFrame(np.array(embeddings), columns=embedding_names)\n",
    "    embeddings_df[\"temperature\"] = list(df[\"temperature\"])\n",
    "    return embeddings_df"
   ]
  },
  {
   "cell_type": "markdown",
   "metadata": {},
   "source": [
    "Since the embedding calculation is a long and expensive process, we should save the results and avoid recalculation unless it's necessary. We'll save the results to CSV files and reuse them if they're already present."
   ]
  },
  {
   "cell_type": "code",
   "execution_count": 7,
   "metadata": {},
   "outputs": [],
   "source": [
    "# Takes approximately 3-4 minutes\n",
    "\n",
    "if not os.path.exists(\"../data/embeddings_train.csv\"):\n",
    "    train_embeddings_df = get_embeddings(train_df)\n",
    "    train_embeddings_df.to_csv(\"../data/embeddings_train.csv\")\n",
    "\n",
    "    test_embeddings_df = get_embeddings(test_df)\n",
    "    test_embeddings_df.to_csv(\"../data/embeddings_test.csv\")\n",
    "else:\n",
    "    train_embeddings_df = pd.read_csv(\"../data/embeddings_train.csv\")\n",
    "    test_embeddings_df = pd.read_csv(\"../data/embeddings_test.csv\")"
   ]
  },
  {
   "cell_type": "code",
   "execution_count": 8,
   "metadata": {},
   "outputs": [
    {
     "data": {
      "text/html": [
       "<div>\n",
       "<style scoped>\n",
       "    .dataframe tbody tr th:only-of-type {\n",
       "        vertical-align: middle;\n",
       "    }\n",
       "\n",
       "    .dataframe tbody tr th {\n",
       "        vertical-align: top;\n",
       "    }\n",
       "\n",
       "    .dataframe thead th {\n",
       "        text-align: right;\n",
       "    }\n",
       "</style>\n",
       "<table border=\"1\" class=\"dataframe\">\n",
       "  <thead>\n",
       "    <tr style=\"text-align: right;\">\n",
       "      <th></th>\n",
       "      <th>Unnamed: 0</th>\n",
       "      <th>e-0</th>\n",
       "      <th>e-1</th>\n",
       "      <th>e-2</th>\n",
       "      <th>e-3</th>\n",
       "      <th>e-4</th>\n",
       "      <th>e-5</th>\n",
       "      <th>e-6</th>\n",
       "      <th>e-7</th>\n",
       "      <th>e-8</th>\n",
       "      <th>...</th>\n",
       "      <th>e-1271</th>\n",
       "      <th>e-1272</th>\n",
       "      <th>e-1273</th>\n",
       "      <th>e-1274</th>\n",
       "      <th>e-1275</th>\n",
       "      <th>e-1276</th>\n",
       "      <th>e-1277</th>\n",
       "      <th>e-1278</th>\n",
       "      <th>e-1279</th>\n",
       "      <th>temperature</th>\n",
       "    </tr>\n",
       "  </thead>\n",
       "  <tbody>\n",
       "    <tr>\n",
       "      <th>0</th>\n",
       "      <td>0</td>\n",
       "      <td>0.101593</td>\n",
       "      <td>0.095818</td>\n",
       "      <td>-0.223492</td>\n",
       "      <td>0.083811</td>\n",
       "      <td>0.034447</td>\n",
       "      <td>0.022522</td>\n",
       "      <td>-0.005927</td>\n",
       "      <td>-0.100536</td>\n",
       "      <td>-0.072165</td>\n",
       "      <td>...</td>\n",
       "      <td>-0.064838</td>\n",
       "      <td>-0.032989</td>\n",
       "      <td>-0.070042</td>\n",
       "      <td>-0.020074</td>\n",
       "      <td>-0.025528</td>\n",
       "      <td>0.094053</td>\n",
       "      <td>-0.044689</td>\n",
       "      <td>0.010913</td>\n",
       "      <td>0.058952</td>\n",
       "      <td>29.333333</td>\n",
       "    </tr>\n",
       "    <tr>\n",
       "      <th>1</th>\n",
       "      <td>1</td>\n",
       "      <td>-0.066381</td>\n",
       "      <td>0.163949</td>\n",
       "      <td>-0.221450</td>\n",
       "      <td>0.000772</td>\n",
       "      <td>-0.065560</td>\n",
       "      <td>-0.126023</td>\n",
       "      <td>0.067668</td>\n",
       "      <td>-0.076334</td>\n",
       "      <td>-0.066342</td>\n",
       "      <td>...</td>\n",
       "      <td>-0.154788</td>\n",
       "      <td>-0.048650</td>\n",
       "      <td>-0.086241</td>\n",
       "      <td>-0.092503</td>\n",
       "      <td>0.036259</td>\n",
       "      <td>-0.028660</td>\n",
       "      <td>0.028472</td>\n",
       "      <td>0.001052</td>\n",
       "      <td>-0.006734</td>\n",
       "      <td>80.000000</td>\n",
       "    </tr>\n",
       "    <tr>\n",
       "      <th>2</th>\n",
       "      <td>2</td>\n",
       "      <td>-0.049085</td>\n",
       "      <td>0.026295</td>\n",
       "      <td>-0.169340</td>\n",
       "      <td>0.072944</td>\n",
       "      <td>0.029128</td>\n",
       "      <td>-0.121401</td>\n",
       "      <td>-0.080230</td>\n",
       "      <td>0.022613</td>\n",
       "      <td>-0.054610</td>\n",
       "      <td>...</td>\n",
       "      <td>-0.128536</td>\n",
       "      <td>-0.085520</td>\n",
       "      <td>-0.055900</td>\n",
       "      <td>0.007329</td>\n",
       "      <td>-0.025570</td>\n",
       "      <td>0.098627</td>\n",
       "      <td>0.037857</td>\n",
       "      <td>0.138432</td>\n",
       "      <td>0.080265</td>\n",
       "      <td>30.000000</td>\n",
       "    </tr>\n",
       "    <tr>\n",
       "      <th>3</th>\n",
       "      <td>3</td>\n",
       "      <td>0.067761</td>\n",
       "      <td>-0.038003</td>\n",
       "      <td>-0.175906</td>\n",
       "      <td>-0.015694</td>\n",
       "      <td>0.010992</td>\n",
       "      <td>-0.029483</td>\n",
       "      <td>-0.035979</td>\n",
       "      <td>-0.047662</td>\n",
       "      <td>-0.102450</td>\n",
       "      <td>...</td>\n",
       "      <td>-0.174706</td>\n",
       "      <td>-0.065998</td>\n",
       "      <td>0.031485</td>\n",
       "      <td>-0.091745</td>\n",
       "      <td>-0.004813</td>\n",
       "      <td>0.035645</td>\n",
       "      <td>0.046048</td>\n",
       "      <td>0.038570</td>\n",
       "      <td>0.049071</td>\n",
       "      <td>37.000000</td>\n",
       "    </tr>\n",
       "    <tr>\n",
       "      <th>4</th>\n",
       "      <td>4</td>\n",
       "      <td>0.008460</td>\n",
       "      <td>-0.087591</td>\n",
       "      <td>-0.195453</td>\n",
       "      <td>0.039576</td>\n",
       "      <td>-0.065107</td>\n",
       "      <td>-0.136874</td>\n",
       "      <td>-0.159391</td>\n",
       "      <td>0.130665</td>\n",
       "      <td>-0.051237</td>\n",
       "      <td>...</td>\n",
       "      <td>-0.259007</td>\n",
       "      <td>-0.036351</td>\n",
       "      <td>0.115923</td>\n",
       "      <td>-0.074272</td>\n",
       "      <td>-0.073683</td>\n",
       "      <td>0.026996</td>\n",
       "      <td>0.017617</td>\n",
       "      <td>0.019810</td>\n",
       "      <td>0.005016</td>\n",
       "      <td>18.750000</td>\n",
       "    </tr>\n",
       "  </tbody>\n",
       "</table>\n",
       "<p>5 rows × 1282 columns</p>\n",
       "</div>"
      ],
      "text/plain": [
       "   Unnamed: 0       e-0       e-1       e-2       e-3       e-4       e-5  \\\n",
       "0           0  0.101593  0.095818 -0.223492  0.083811  0.034447  0.022522   \n",
       "1           1 -0.066381  0.163949 -0.221450  0.000772 -0.065560 -0.126023   \n",
       "2           2 -0.049085  0.026295 -0.169340  0.072944  0.029128 -0.121401   \n",
       "3           3  0.067761 -0.038003 -0.175906 -0.015694  0.010992 -0.029483   \n",
       "4           4  0.008460 -0.087591 -0.195453  0.039576 -0.065107 -0.136874   \n",
       "\n",
       "        e-6       e-7       e-8  ...    e-1271    e-1272    e-1273    e-1274  \\\n",
       "0 -0.005927 -0.100536 -0.072165  ... -0.064838 -0.032989 -0.070042 -0.020074   \n",
       "1  0.067668 -0.076334 -0.066342  ... -0.154788 -0.048650 -0.086241 -0.092503   \n",
       "2 -0.080230  0.022613 -0.054610  ... -0.128536 -0.085520 -0.055900  0.007329   \n",
       "3 -0.035979 -0.047662 -0.102450  ... -0.174706 -0.065998  0.031485 -0.091745   \n",
       "4 -0.159391  0.130665 -0.051237  ... -0.259007 -0.036351  0.115923 -0.074272   \n",
       "\n",
       "     e-1275    e-1276    e-1277    e-1278    e-1279  temperature  \n",
       "0 -0.025528  0.094053 -0.044689  0.010913  0.058952    29.333333  \n",
       "1  0.036259 -0.028660  0.028472  0.001052 -0.006734    80.000000  \n",
       "2 -0.025570  0.098627  0.037857  0.138432  0.080265    30.000000  \n",
       "3 -0.004813  0.035645  0.046048  0.038570  0.049071    37.000000  \n",
       "4 -0.073683  0.026996  0.017617  0.019810  0.005016    18.750000  \n",
       "\n",
       "[5 rows x 1282 columns]"
      ]
     },
     "execution_count": 8,
     "metadata": {},
     "output_type": "execute_result"
    }
   ],
   "source": [
    "train_embeddings_df[\"temperature\"] = list(train_df[\"temperature\"])\n",
    "test_embeddings_df[\"temperature\"] = list(test_df[\"temperature\"])\n",
    "train_embeddings_df.head()"
   ]
  },
  {
   "cell_type": "markdown",
   "metadata": {},
   "source": [
    "Now that we have our dataset, we'll train our XGBoost model. All `1280` columns are features, and `temperature` is what we want to predict."
   ]
  },
  {
   "cell_type": "markdown",
   "metadata": {},
   "source": [
    "The model will be similar to the one we used in the previous notebook. Since we are now trying to train a real model, let's set `ntrees` and `max_depth`. This will increase training time, but XGBoost is very efficient and it won't take long to train even with these configurations.\n",
    "\n",
    "`ntrees`, `max_depth`, and `learning_rate` are called *hyperparameters*: configurations of our model that aren't directly related to data. It's good practice to experiment with several values and see which one produces the best results."
   ]
  },
  {
   "cell_type": "code",
   "execution_count": 9,
   "metadata": {},
   "outputs": [
    {
     "name": "stdout",
     "output_type": "stream",
     "text": [
      "Train MSE: 0.0001579928964292652\n",
      "Test MSE: 261.3076073859842\n",
      "Train R2: 0.9999998029078143\n",
      "Test R2: 0.6727257859435755\n",
      "\n",
      "Pearson correlation on test set: 0.8216\n"
     ]
    }
   ],
   "source": [
    "from xgboost import XGBRegressor\n",
    "from sklearn.metrics import mean_squared_error, r2_score\n",
    "\n",
    "# Specify model hyperparameters\n",
    "model = XGBRegressor(\n",
    "    random_state=42\n",
    ")\n",
    "\n",
    "X_train = train_embeddings_df[[col for col in train_embeddings_df if col.startswith(\"e\")]]  \n",
    "y_train = train_embeddings_df['temperature']\n",
    "X_test = test_embeddings_df[[col for col in test_embeddings_df if col.startswith(\"e\")]]\n",
    "y_test = test_embeddings_df['temperature']\n",
    "\n",
    "# Train the model\n",
    "model.fit(X_train, y_train)\n",
    "\n",
    "# Make predictions and evaluate\n",
    "train_pred = model.predict(X_train) \n",
    "test_pred = model.predict(X_test)\n",
    "\n",
    "print(\"Train MSE:\", mean_squared_error(y_train, train_pred))  \n",
    "print(\"Test MSE:\", mean_squared_error(y_test, test_pred))\n",
    "print(\"Train R2:\", r2_score(y_train, train_pred))\n",
    "print(\"Test R2:\", r2_score(y_test, test_pred))\n",
    "\n",
    "# Calculate Pearson correlation\n",
    "pearson_corr = np.corrcoef(y_test, test_pred)[0,1]\n",
    "print(f\"\\nPearson correlation on test set: {pearson_corr:.4f}\")"
   ]
  },
  {
   "cell_type": "markdown",
   "metadata": {},
   "source": [
    "It's a good idea to examine your predictions. Let's draw a scatter plot comparing the actual values vs. the model's predictions."
   ]
  },
  {
   "cell_type": "code",
   "execution_count": 10,
   "metadata": {},
   "outputs": [
    {
     "data": {
      "image/png": "[encoded data removed]",
      "text/plain": [
       "<Figure size 1000x600 with 1 Axes>"
      ]
     },
     "metadata": {},
     "output_type": "display_data"
    }
   ],
   "source": [
    "import seaborn as sns\n",
    "import matplotlib.pyplot as plt\n",
    "\n",
    "plt.figure(figsize=(10, 6))\n",
    "sns.scatterplot(x=y_test, y=test_pred.flatten(), alpha=0.5)\n",
    "plt.plot([y_test.min(), y_test.max()], [y_test.min(), y_test.max()], 'r--', label='Perfect prediction')\n",
    "plt.xlabel('Actual Temperature (°C)')\n",
    "plt.ylabel('Predicted Temperature (°C)')\n",
    "plt.title('Predicted vs Actual Temperatures')\n",
    "plt.legend()\n",
    "plt.show()"
   ]
  },
  {
   "cell_type": "markdown",
   "metadata": {},
   "source": [
    "Nice! This result looks much better than our toy model from before. While there is space for improvement, it's already a useful model. Let's save it to a file."
   ]
  },
  {
   "cell_type": "code",
   "execution_count": 11,
   "metadata": {},
   "outputs": [
    {
     "name": "stdout",
     "output_type": "stream",
     "text": [
      "Model saved to: ../data/model.pkl\n"
     ]
    }
   ],
   "source": [
    "# Save model to file\n",
    "import joblib\n",
    "model_path = \"../data/model.pkl\"\n",
    "joblib.dump(model, model_path)\n",
    "print(f\"Model saved to: {model_path}\")"
   ]
  },
  {
   "cell_type": "markdown",
   "metadata": {},
   "source": [
    "Now, let's load our model and predict the temperature for an example protein, GFP."
   ]
  },
  {
   "cell_type": "code",
   "execution_count": 12,
   "metadata": {},
   "outputs": [
    {
     "name": "stdout",
     "output_type": "stream",
     "text": [
      "\n",
      "Predicted melting temperature for GFP: 45.44°C\n"
     ]
    }
   ],
   "source": [
    "# Load the saved model\n",
    "loaded_model = joblib.load(model_path)\n",
    "\n",
    "# Get GFP sequence embedding\n",
    "gfp_sequence = \"MSKGEELFTGVVPILVELDGDVNGHKFSVSGEGEGDATYGKLTLKFICTTGKLPVPWPTLVTTFSYGVQCFSRYPDHMKQHDFFKSAMPEGYVQERTIFFKDDGNYKTRAEVKFEGDTLVNRIELKGIDFKEDGNILGHKLEYNYNSHNVYIMADKQKNGIKVNFKIRHNIEDGSVQLADHYQQNTPIGDGPVLLPDNHYLSTQSALSKDPNEKRDHMVLLEFVTAAGITHGMDELYK\"\n",
    "\n",
    "query = MeanEmbeddingQuery(sequence=gfp_sequence, model=aa0_model)\n",
    "response = client.send_request(query)\n",
    "gfp_embedding = response.embedding\n",
    "# Convert the embedding to a DataFrame for prediction\n",
    "gfp_embedding_df = pd.DataFrame([gfp_embedding], columns=[f\"e-{i}\" for i in range(len(gfp_embedding))])\n",
    "\n",
    "# Make prediction\n",
    "gfp_pred = loaded_model.predict(gfp_embedding_df)[0]\n",
    "print(f\"\\nPredicted melting temperature for GFP: {gfp_pred:.2f}°C\")"
   ]
  },
  {
   "cell_type": "markdown",
   "metadata": {},
   "source": [
    "## Final thoughts\n",
    "\n",
    "Our model predicts that GFP has a high melting temperature. There is evidence supporting this, as GFP is known to be very heat stable, with a [melting point around 83°C](https://doi.org/10.1016/S0040-6031(03)00397-6). This melting point is significantly higher than the optimal growth temperature of its host, the [water jellyfish](https://en.wikipedia.org/wiki/Aequorea_victoria).\n",
    "\n",
    "Due to how this dataset was constructed, it's possible that our model actually learned to predict patterns related to species rather than temperature. Such considerations are always important when training functional ML models. I strongly recommend using this model approach with another dataset and being mindful of the patterns that models can pick up, which may not always align with the intended measurements.\n",
    "\n",
    "There's definitely room for improvement, most likely in data quality and training set size. It's very important to provide ML models with accurate and well-prepared datasets. [Ginkgo Datapoints](https://www.ginkgobioworks.com/datapoints/) is a great resource for such dataset!"
   ]
  },
  {
   "cell_type": "markdown",
   "metadata": {},
   "source": [
    "## Excersises and follow-ups\n",
    "\n",
    "I strongly encourage everyone to modify this tutorial and experiment with different things. Here are few ideas:\n",
    "\n",
    "* Train different regression models instead of XGBoost, like logistic regression.\n",
    "* Find other regression datasets and try to predict different properties, such as pH stability or binding affinity.\n",
    "* Try to train a classifier model in a similar way."
   ]
  },
  {
   "cell_type": "markdown",
   "metadata": {},
   "source": [
    "## Further reading\n",
    "\n",
    "I hope you enjoyed this short, functional tour on how to leverage deep learning foundation models (and our API!) to solve applied scientific problems. If you want to learn more about general machine learning and deep learning, I recommend the following materials:\n",
    "\n",
    "* [Hands-On Machine Learning with Scikit-Learn, Keras, and TensorFlow: Concepts, Tools, and Techniques to Build Intelligent Systems](https://www.amazon.com/Hands-Machine-Learning-Scikit-Learn-TensorFlow/dp/1098125975) by Aurélien Géron\n",
    "    * This book is an all-time classic. It builds solid foundations for both classical machine learning and deep learning. It uses TensorFlow for the deep learning part, which is less popular in scientific ML (PyTorch is the king here), but the concepts are very easy to transfer.\n",
    "\n",
    "* [FastAI](https://course.fast.ai/)\n",
    "    * FastAI is an amazing video course and community. It's focused on the very practical use of deep learning and has you train a functional deep learning model almost immediately. It digs deeper into theory and important concepts later on.\n",
    "\n",
    "* [Kaggle](https://www.kaggle.com/)\n",
    "    * Kaggle, which is also the source of our dataset here, is a great resource to practice what you've learned. Each competition will have a prepared dataset and a clear goal. There's also a very strong community of people who share their work and thinking process through well-written notebooks.\n",
    "\n",
    "* 3blue1brown made fantastic series of [videos](https://www.youtube.com/watch?v=aircAruvnKk) about deep learning under the hood.\n",
    "\n",
    "* Free [Stanford course](https://www.youtube.com/watch?v=jGwO_UgTS7I&list=PLoROMvodv4rMiGQp3WXShtMGgzqpfVfbU) and other materials made by Andrew Ng.\n",
    "\n",
    "* [Probabilistic Machine Learning: An Introduction](https://probml.github.io/pml-book/book1.html) is a very detailed overview of machine learning.\n",
    "\n",
    "* [The Hundred-Page Machine Learning Book](https://themlbook.com/) by Andriy Burkov.\n",
    "\n",
    "    "
   ]
  },
  {
   "cell_type": "markdown",
   "metadata": {},
   "source": []
  }
 ],
 "metadata": {
  "kernelspec": {
   "display_name": "Python 3",
   "language": "python",
   "name": "python3"
  },
  "language_info": {
   "codemirror_mode": {
    "name": "ipython",
    "version": 3
   },
   "file_extension": ".py",
   "mimetype": "text/x-python",
   "name": "python",
   "nbconvert_exporter": "python",
   "pygments_lexer": "ipython3",
   "version": "3.12.3"
  }
 },
 "nbformat": 4,
 "nbformat_minor": 2
}
