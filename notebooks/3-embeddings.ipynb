{
 "cells": [
  {
   "cell_type": "markdown",
   "metadata": {},
   "source": [
    "# Deep learning and embeddings\n",
    "\n",
    "Now that we have our dataset and some understanding of the model, let's discuss how to actually train something useful. Let's talk about embeddings!\n",
    "\n",
    "Some of you have probably heard the term \"foundation model.\" This is a deep learning model, usually large and trained on enormous amounts of data, that doesn't have any \"practical\" task other than learning the patterns in the dataset. These patterns can be so complex that humans couldn't realistically come up with them on their own. Models like that will then take, as input, a sequence (in our case, a protein sequence) and output a vector of numbers called an `embedding`. This vector will be packed with information about patterns present in the given sequence. It's not something humans can read, but secondary ML models can effectively use this vector and accurately predict values they're trained to predict.\n",
    "\n",
    "In our case, we have our dataset of temperatures and sequences. As we saw in the previous notebook, we didn't have an easy way to train an XGBoost model that would accurately predict the temperature. In this notebook, we will use Ginkgo's pretrained foundation model called [AA-0](https://www.ginkgobioworks.com/2024/09/17/aa-0-protein-llm-technical-review/) to calculate embeddings for our dataset. We will access this model through our web server (API), allowing you to produce training embeddings without access to GPUs or any specialized hardware."
   ]
  },
  {
   "cell_type": "markdown",
   "metadata": {},
   "source": [
    "We will use a package called [ginkgo-ai-client](https://github.com/ginkgobioworks/ginkgo-ai-client/tree/main) which makes it easier to access the API. You will also need an account and key from the [Ginkgo model API](https://models.ginkgobioworks.ai/), which you can find in the `Settings` tab in the model UI. Save it to an environment variable called `GINKGOAI_API_KEY` in a file somewhere (like a .env file in your home folder) and we'll load it using `dotenv`.\n",
    "\n",
    "Example .env file:\n",
    "```\n",
    "GINKGOAI_API_KEY=abcabc\n",
    "```"
   ]
  },
  {
   "cell_type": "code",
   "execution_count": 15,
   "metadata": {},
   "outputs": [],
   "source": [
    "import dotenv\n",
    "import os\n",
    "env_file = \"../.env\"  # Change this to your .env file location\n",
    "assert os.path.exists(env_file), \"Please create a .env file with your API key\"\n",
    "\n",
    "dotenv.load_dotenv(env_file, override=True)\n",
    "assert os.getenv(\"GINKGOAI_API_KEY\") is not None, \"Please set your API key in the .env file\"\n"
   ]
  },
  {
   "cell_type": "markdown",
   "metadata": {},
   "source": [
    "Now, let's run an example prediction using Ginkgo's AA-0 model."
   ]
  },
  {
   "cell_type": "code",
   "execution_count": 16,
   "metadata": {},
   "outputs": [],
   "source": [
    "from ginkgo_ai_client import (\n",
    "    GinkgoAIClient,\n",
    "    MaskedInferenceQuery,\n",
    "    MeanEmbeddingQuery,\n",
    ")\n",
    "\n",
    "client = GinkgoAIClient()\n",
    "\n",
    "aa0_model = \"ginkgo-aa0-650M\"\n",
    "\n",
    "queries = [\n",
    "    MeanEmbeddingQuery(sequence=\"MLYLRRL\", model=aa0_model),\n",
    "    MeanEmbeddingQuery(sequence=\"MLYRRL\", model=aa0_model),\n",
    "    MeanEmbeddingQuery(sequence=\"MLYLLRRL\", model=aa0_model),\n",
    "]\n",
    "responses = client.send_batch_request(queries)"
   ]
  },
  {
   "cell_type": "code",
   "execution_count": 18,
   "metadata": {},
   "outputs": [
    {
     "data": {
      "text/plain": [
       "[-0.2410384565591812,\n",
       " 0.1118989661335945,\n",
       " -0.3930843770503998,\n",
       " -0.2676232159137726,\n",
       " -0.04871775582432747,\n",
       " -0.1515751630067825,\n",
       " 0.02308034151792526,\n",
       " 0.02247585915029049,\n",
       " -0.03512640669941902,\n",
       " 0.02068932540714741,\n",
       " -0.09789848327636719,\n",
       " -0.09903421998023987,\n",
       " 0.1008697748184204,\n",
       " -0.1763597875833511,\n",
       " -0.610081672668457,\n",
       " 0.07856658846139908,\n",
       " -0.2632047235965729,\n",
       " 0.0639657974243164,\n",
       " -0.1556835174560547,\n",
       " -0.1417402476072311]"
      ]
     },
     "execution_count": 18,
     "metadata": {},
     "output_type": "execute_result"
    }
   ],
   "source": [
    "embeddings = [p.embedding for p in responses]\n",
    "embeddings[0][:20]"
   ]
  },
  {
   "cell_type": "code",
   "execution_count": 19,
   "metadata": {},
   "outputs": [
    {
     "data": {
      "text/plain": [
       "1280"
      ]
     },
     "execution_count": 19,
     "metadata": {},
     "output_type": "execute_result"
    }
   ],
   "source": [
    "len(embeddings[0])"
   ]
  },
  {
   "cell_type": "markdown",
   "metadata": {},
   "source": [
    "As you can see, each sequence, even our example nonsensical one, is a list of 1280 numbers. These numbers are completely inscrutable for humans but, hopefully, packed with information for machines."
   ]
  },
  {
   "cell_type": "code",
   "execution_count": 20,
   "metadata": {},
   "outputs": [],
   "source": [
    "import pandas as pd\n",
    "import numpy as np\n",
    "\n",
    "test_df = pd.read_csv('../data/test_df.csv')\n",
    "train_df = pd.read_csv('../data/train_df.csv')"
   ]
  },
  {
   "cell_type": "markdown",
   "metadata": {},
   "source": [
    "Let's create a tabular dataset for XGBoost. It will be a dataframe with `1281` columns: `1280` for the embedding size and one for the temperature label."
   ]
  },
  {
   "cell_type": "code",
   "execution_count": 21,
   "metadata": {},
   "outputs": [],
   "source": [
    "def get_embeddings(df):\n",
    "    queries = [\n",
    "        MeanEmbeddingQuery(sequence=seq, model=aa0_model) for seq in df[\"sequence\"]\n",
    "    ]\n",
    "    responses = client.send_batch_request(queries)\n",
    "    embeddings = [p.embedding for p in responses]\n",
    "\n",
    "    embedding_names = [f\"e-{i}\" for i, emb in enumerate(embeddings[0])]\n",
    "    embeddings_df = pd.DataFrame(np.array(embeddings), columns=embedding_names)\n",
    "    embeddings_df[\"temperature\"] = list(df[\"temperature\"])\n",
    "    return embeddings_df"
   ]
  },
  {
   "cell_type": "markdown",
   "metadata": {},
   "source": [
    "Since the embedding calculation is a long and expensive process, we should save the results and avoid recalculation unless it's necessary. We'll save the results to CSV files and reuse them if they're already present."
   ]
  },
  {
   "cell_type": "code",
   "execution_count": 22,
   "metadata": {},
   "outputs": [],
   "source": [
    "# Takes approximately 3-4 minutes\n",
    "\n",
    "if not os.path.exists(\"../data/embeddings_train.csv\"):\n",
    "    train_embeddings_df = get_embeddings(train_df)\n",
    "    train_embeddings_df.to_csv(\"../data/embeddings_train.csv\")\n",
    "\n",
    "    test_embeddings_df = get_embeddings(test_df)\n",
    "    test_embeddings_df.to_csv(\"../data/embeddings_test.csv\")\n",
    "else:\n",
    "    train_embeddings_df = pd.read_csv(\"../data/embeddings_train.csv\")\n",
    "    test_embeddings_df = pd.read_csv(\"../data/embeddings_test.csv\")"
   ]
  },
  {
   "cell_type": "code",
   "execution_count": 23,
   "metadata": {},
   "outputs": [
    {
     "data": {
      "text/html": [
       "<div>\n",
       "<style scoped>\n",
       "    .dataframe tbody tr th:only-of-type {\n",
       "        vertical-align: middle;\n",
       "    }\n",
       "\n",
       "    .dataframe tbody tr th {\n",
       "        vertical-align: top;\n",
       "    }\n",
       "\n",
       "    .dataframe thead th {\n",
       "        text-align: right;\n",
       "    }\n",
       "</style>\n",
       "<table border=\"1\" class=\"dataframe\">\n",
       "  <thead>\n",
       "    <tr style=\"text-align: right;\">\n",
       "      <th></th>\n",
       "      <th>Unnamed: 0</th>\n",
       "      <th>e-0</th>\n",
       "      <th>e-1</th>\n",
       "      <th>e-2</th>\n",
       "      <th>e-3</th>\n",
       "      <th>e-4</th>\n",
       "      <th>e-5</th>\n",
       "      <th>e-6</th>\n",
       "      <th>e-7</th>\n",
       "      <th>e-8</th>\n",
       "      <th>...</th>\n",
       "      <th>e-1271</th>\n",
       "      <th>e-1272</th>\n",
       "      <th>e-1273</th>\n",
       "      <th>e-1274</th>\n",
       "      <th>e-1275</th>\n",
       "      <th>e-1276</th>\n",
       "      <th>e-1277</th>\n",
       "      <th>e-1278</th>\n",
       "      <th>e-1279</th>\n",
       "      <th>temperature</th>\n",
       "    </tr>\n",
       "  </thead>\n",
       "  <tbody>\n",
       "    <tr>\n",
       "      <th>0</th>\n",
       "      <td>0</td>\n",
       "      <td>0.101593</td>\n",
       "      <td>0.095818</td>\n",
       "      <td>-0.223492</td>\n",
       "      <td>0.083811</td>\n",
       "      <td>0.034447</td>\n",
       "      <td>0.022522</td>\n",
       "      <td>-0.005927</td>\n",
       "      <td>-0.100536</td>\n",
       "      <td>-0.072165</td>\n",
       "      <td>...</td>\n",
       "      <td>-0.064838</td>\n",
       "      <td>-0.032989</td>\n",
       "      <td>-0.070042</td>\n",
       "      <td>-0.020074</td>\n",
       "      <td>-0.025528</td>\n",
       "      <td>0.094053</td>\n",
       "      <td>-0.044689</td>\n",
       "      <td>0.010913</td>\n",
       "      <td>0.058952</td>\n",
       "      <td>28.000000</td>\n",
       "    </tr>\n",
       "    <tr>\n",
       "      <th>1</th>\n",
       "      <td>1</td>\n",
       "      <td>-0.066381</td>\n",
       "      <td>0.163949</td>\n",
       "      <td>-0.221450</td>\n",
       "      <td>0.000772</td>\n",
       "      <td>-0.065560</td>\n",
       "      <td>-0.126023</td>\n",
       "      <td>0.067668</td>\n",
       "      <td>-0.076334</td>\n",
       "      <td>-0.066342</td>\n",
       "      <td>...</td>\n",
       "      <td>-0.154788</td>\n",
       "      <td>-0.048650</td>\n",
       "      <td>-0.086241</td>\n",
       "      <td>-0.092503</td>\n",
       "      <td>0.036259</td>\n",
       "      <td>-0.028660</td>\n",
       "      <td>0.028472</td>\n",
       "      <td>0.001052</td>\n",
       "      <td>-0.006734</td>\n",
       "      <td>77.333333</td>\n",
       "    </tr>\n",
       "    <tr>\n",
       "      <th>2</th>\n",
       "      <td>2</td>\n",
       "      <td>-0.049085</td>\n",
       "      <td>0.026295</td>\n",
       "      <td>-0.169340</td>\n",
       "      <td>0.072944</td>\n",
       "      <td>0.029128</td>\n",
       "      <td>-0.121401</td>\n",
       "      <td>-0.080230</td>\n",
       "      <td>0.022613</td>\n",
       "      <td>-0.054610</td>\n",
       "      <td>...</td>\n",
       "      <td>-0.128536</td>\n",
       "      <td>-0.085520</td>\n",
       "      <td>-0.055900</td>\n",
       "      <td>0.007329</td>\n",
       "      <td>-0.025570</td>\n",
       "      <td>0.098627</td>\n",
       "      <td>0.037857</td>\n",
       "      <td>0.138432</td>\n",
       "      <td>0.080265</td>\n",
       "      <td>30.000000</td>\n",
       "    </tr>\n",
       "    <tr>\n",
       "      <th>3</th>\n",
       "      <td>3</td>\n",
       "      <td>0.067761</td>\n",
       "      <td>-0.038003</td>\n",
       "      <td>-0.175906</td>\n",
       "      <td>-0.015694</td>\n",
       "      <td>0.010992</td>\n",
       "      <td>-0.029483</td>\n",
       "      <td>-0.035979</td>\n",
       "      <td>-0.047662</td>\n",
       "      <td>-0.102450</td>\n",
       "      <td>...</td>\n",
       "      <td>-0.174706</td>\n",
       "      <td>-0.065998</td>\n",
       "      <td>0.031485</td>\n",
       "      <td>-0.091745</td>\n",
       "      <td>-0.004813</td>\n",
       "      <td>0.035645</td>\n",
       "      <td>0.046048</td>\n",
       "      <td>0.038570</td>\n",
       "      <td>0.049071</td>\n",
       "      <td>35.000000</td>\n",
       "    </tr>\n",
       "    <tr>\n",
       "      <th>4</th>\n",
       "      <td>4</td>\n",
       "      <td>0.008460</td>\n",
       "      <td>-0.087591</td>\n",
       "      <td>-0.195453</td>\n",
       "      <td>0.039576</td>\n",
       "      <td>-0.065107</td>\n",
       "      <td>-0.136874</td>\n",
       "      <td>-0.159391</td>\n",
       "      <td>0.130665</td>\n",
       "      <td>-0.051237</td>\n",
       "      <td>...</td>\n",
       "      <td>-0.259007</td>\n",
       "      <td>-0.036351</td>\n",
       "      <td>0.115923</td>\n",
       "      <td>-0.074272</td>\n",
       "      <td>-0.073683</td>\n",
       "      <td>0.026996</td>\n",
       "      <td>0.017617</td>\n",
       "      <td>0.019810</td>\n",
       "      <td>0.005016</td>\n",
       "      <td>18.000000</td>\n",
       "    </tr>\n",
       "  </tbody>\n",
       "</table>\n",
       "<p>5 rows × 1282 columns</p>\n",
       "</div>"
      ],
      "text/plain": [
       "   Unnamed: 0       e-0       e-1       e-2       e-3       e-4       e-5  \\\n",
       "0           0  0.101593  0.095818 -0.223492  0.083811  0.034447  0.022522   \n",
       "1           1 -0.066381  0.163949 -0.221450  0.000772 -0.065560 -0.126023   \n",
       "2           2 -0.049085  0.026295 -0.169340  0.072944  0.029128 -0.121401   \n",
       "3           3  0.067761 -0.038003 -0.175906 -0.015694  0.010992 -0.029483   \n",
       "4           4  0.008460 -0.087591 -0.195453  0.039576 -0.065107 -0.136874   \n",
       "\n",
       "        e-6       e-7       e-8  ...    e-1271    e-1272    e-1273    e-1274  \\\n",
       "0 -0.005927 -0.100536 -0.072165  ... -0.064838 -0.032989 -0.070042 -0.020074   \n",
       "1  0.067668 -0.076334 -0.066342  ... -0.154788 -0.048650 -0.086241 -0.092503   \n",
       "2 -0.080230  0.022613 -0.054610  ... -0.128536 -0.085520 -0.055900  0.007329   \n",
       "3 -0.035979 -0.047662 -0.102450  ... -0.174706 -0.065998  0.031485 -0.091745   \n",
       "4 -0.159391  0.130665 -0.051237  ... -0.259007 -0.036351  0.115923 -0.074272   \n",
       "\n",
       "     e-1275    e-1276    e-1277    e-1278    e-1279  temperature  \n",
       "0 -0.025528  0.094053 -0.044689  0.010913  0.058952    28.000000  \n",
       "1  0.036259 -0.028660  0.028472  0.001052 -0.006734    77.333333  \n",
       "2 -0.025570  0.098627  0.037857  0.138432  0.080265    30.000000  \n",
       "3 -0.004813  0.035645  0.046048  0.038570  0.049071    35.000000  \n",
       "4 -0.073683  0.026996  0.017617  0.019810  0.005016    18.000000  \n",
       "\n",
       "[5 rows x 1282 columns]"
      ]
     },
     "execution_count": 23,
     "metadata": {},
     "output_type": "execute_result"
    }
   ],
   "source": [
    "train_embeddings_df[\"temperature\"] = list(train_df[\"temperature\"])\n",
    "test_embeddings_df[\"temperature\"] = list(test_df[\"temperature\"])\n",
    "train_embeddings_df.head()"
   ]
  },
  {
   "cell_type": "markdown",
   "metadata": {},
   "source": [
    "Now that we have our dataset, we'll train our XGBoost model. All `1280` columns are features, and `temperature` is what we want to predict."
   ]
  },
  {
   "cell_type": "markdown",
   "metadata": {},
   "source": [
    "The model will be similar to the one we used in the previous notebook. Since we are now trying to train a real model, let's set `ntrees` and `max_depth`. This will increase training time, but XGBoost is very efficient and it won't take long to train even with these configurations.\n",
    "\n",
    "`ntrees`, `max_depth`, and `learning_rate` are called *hyperparameters*: configurations of our model that aren't directly related to data. It's good practice to experiment with several values and see which one produces the best results."
   ]
  },
  {
   "cell_type": "code",
   "execution_count": 24,
   "metadata": {},
   "outputs": [
    {
     "name": "stdout",
     "output_type": "stream",
     "text": [
      "Train MSE: 0.00032751624099286827\n",
      "Test MSE: 262.01323438627014\n",
      "Train R2: 0.999999586550554\n",
      "Test R2: 0.6654626537888579\n",
      "\n",
      "Pearson correlation on test set: 0.8175\n"
     ]
    }
   ],
   "source": [
    "from xgboost import XGBRegressor\n",
    "from sklearn.metrics import mean_squared_error, r2_score\n",
    "\n",
    "# Specify model hyperparameters\n",
    "model = XGBRegressor(\n",
    "    random_state=42\n",
    ")\n",
    "\n",
    "X_train = train_embeddings_df[[col for col in train_embeddings_df if col.startswith(\"e\")]]  \n",
    "y_train = train_embeddings_df['temperature']\n",
    "X_test = test_embeddings_df[[col for col in test_embeddings_df if col.startswith(\"e\")]]\n",
    "y_test = test_embeddings_df['temperature']\n",
    "\n",
    "# Train the model\n",
    "model.fit(X_train, y_train)\n",
    "\n",
    "# Make predictions and evaluate\n",
    "train_pred = model.predict(X_train) \n",
    "test_pred = model.predict(X_test)\n",
    "\n",
    "print(\"Train MSE:\", mean_squared_error(y_train, train_pred))  \n",
    "print(\"Test MSE:\", mean_squared_error(y_test, test_pred))\n",
    "print(\"Train R2:\", r2_score(y_train, train_pred))\n",
    "print(\"Test R2:\", r2_score(y_test, test_pred))\n",
    "\n",
    "# Calculate Pearson correlation\n",
    "pearson_corr = np.corrcoef(y_test, test_pred)[0,1]\n",
    "print(f\"\\nPearson correlation on test set: {pearson_corr:.4f}\")"
   ]
  },
  {
   "cell_type": "markdown",
   "metadata": {},
   "source": [
    "It's a good idea to examine your predictions. Let's draw a scatter plot comparing the actual values vs. the model's predictions."
   ]
  },
  {
   "cell_type": "code",
   "execution_count": 25,
   "metadata": {},
   "outputs": [
    {
     "data": {
      "image/png": "[encoded data removed]",
      "text/plain": [
       "<Figure size 1000x600 with 1 Axes>"
      ]
     },
     "metadata": {},
     "output_type": "display_data"
    }
   ],
   "source": [
    "import seaborn as sns\n",
    "import matplotlib.pyplot as plt\n",
    "\n",
    "plt.figure(figsize=(10, 6))\n",
    "sns.scatterplot(x=y_test, y=test_pred.flatten(), alpha=0.5)\n",
    "plt.plot([y_test.min(), y_test.max()], [y_test.min(), y_test.max()], 'r--', label='Perfect prediction')\n",
    "plt.xlabel('Actual Temperature (°C)')\n",
    "plt.ylabel('Predicted Temperature (°C)')\n",
    "plt.title('Predicted vs Actual Temperatures')\n",
    "plt.legend()\n",
    "plt.show()"
   ]
  },
  {
   "cell_type": "markdown",
   "metadata": {},
   "source": [
    "Nice! This result looks much better than our toy model from before. While there is space for improvement, it's already a useful model. Let's save it to a file."
   ]
  },
  {
   "cell_type": "code",
   "execution_count": 26,
   "metadata": {},
   "outputs": [
    {
     "name": "stdout",
     "output_type": "stream",
     "text": [
      "Model saved to: ../data/model.pkl\n"
     ]
    }
   ],
   "source": [
    "# Save model to file\n",
    "import joblib\n",
    "model_path = \"../data/model.pkl\"\n",
    "joblib.dump(model, model_path)\n",
    "print(f\"Model saved to: {model_path}\")"
   ]
  },
  {
   "cell_type": "markdown",
   "metadata": {},
   "source": [
    "Now, let's load our model and predict the temperature for an example protein, GFP."
   ]
  },
  {
   "cell_type": "code",
   "execution_count": 27,
   "metadata": {},
   "outputs": [
    {
     "name": "stdout",
     "output_type": "stream",
     "text": [
      "[-0.1793733090162277, 0.03038660250604153, -0.1745973229408264, 0.09480302035808563, 0.1333664506673813, -0.0385541170835495, 0.0537593886256218, 0.0330418162047863, -0.03145413845777512, -0.3225129246711731, 0.07419165223836899, 0.02582588978111744, 0.1551418751478195, -0.1080555394291878, -0.7311972975730896, -0.1064155325293541, -0.1469565033912659, -0.1467185765504837, -0.1199857965111732, 0.06318296492099762, 0.1106061190366745, 0.03526008129119873, 0.007464437279850245, -0.02636740356683731, 0.1484468579292297, -0.07333000004291534, 0.03901147097349167, -0.03177027031779289, -0.08928833156824112, -0.3497322797775269, -0.0968574807047844, -0.09064539521932602, -0.02039849199354649, 0.02461102418601513, -0.0321323424577713, -0.0357043445110321, -0.1351479887962341, -0.1169603019952774, -0.04240031167864799, 0.03553023189306259, 0.07396911084651947, 0.1550441086292267, 0.1130878478288651, -0.09241684526205063, -0.1123109608888626, -0.06096209585666656, 0.0294782780110836, -0.1424144506454468, -0.2190946489572525, 0.05414005368947983, 0.1073995381593704, -0.1624407768249512, 0.07860119640827179, -0.09827964007854462, 0.2960516214370728, 0.1921191960573196, 0.1456226706504822, -0.01842091977596283, -0.03335368260741234, -0.02299817092716694, -0.0914856493473053, 0.05171831697225571, 0.0215079989284277, -0.002574521349743009, -0.06794492900371552, -0.004173419903963804, 0.05487577244639397, 0.03765235468745232, -0.1009054630994797, -0.01290606707334518, -0.03962943702936172, 0.09426989406347275, -0.2852188944816589, 0.05414753407239914, 0.1097265258431435, 0.06404879689216614, 0.1223553195595741, -0.1410093903541565, -0.2208836078643799, -0.1782413870096207, 0.1336837857961655, 0.02271935902535915, 0.02370084263384342, 0.06153032928705215, 0.2011101096868515, 0.02714795619249344, 0.08466020226478577, 0.08380652219057083, 0.004784580785781145, -0.08646581321954727, -0.07116512209177017, 0.1310896575450897, -0.08157369494438171, -0.04650870710611343, -0.08355928212404251, -0.01866612583398819, -0.218835636973381, -0.08173780888319016, -0.1368362456560135, -0.06191491708159447, 0.01604282669723034, -0.09811259061098099, 0.134759396314621, -0.1148675009608269, -0.2841701507568359, -0.1196359544992447, 0.07577615231275558, 0.08096660673618317, 0.03062515892088413, 0.2278984934091568, 0.02829843200743198, -0.03016203455626965, 0.0079959100112319, 0.1753352880477905, 0.02701738849282265, 0.1606593281030655, -0.1007616594433784, -0.04416840150952339, 0.1033292338252068, -0.06313454359769821, -0.06906848400831223, -0.1878350228071213, -0.05105012655258179, -0.180294930934906, 0.02406596951186657, -0.001790999434888363, 0.02366111427545547, 0.07515106350183487, 0.06180150806903839, 0.03467698395252228, 0.2244105488061905, -0.08637342602014542, -0.2385089695453644, -0.1919007450342178, -0.08062167465686798, 0.05313511192798615, -0.006162203382700682, 0.06559460610151291, -0.1015082597732544, 0.001705855480395257, 0.07214096933603287, 0.01693166606128216, 0.08414912968873978, -0.09199034422636032, 0.0270065926015377, -0.2019185870885849, 0.004952635616064072, -0.0912029817700386, -0.2650077939033508, -0.04565954953432083, -0.137130931019783, 0.03630319610238075, -0.1897559463977814, 0.02606488950550556, -0.003986340016126633, 0.05959019437432289, -0.1164053529500961, -0.1032326743006706, 0.1346834748983383, -0.1119693964719772, 0.03045661002397537, -0.007566359359771013, 0.1155402213335037, -0.1543777287006378, 0.198846846818924, 0.2235127836465836, 0.1252801269292831, -0.08647565543651581, -0.04816271737217903, -0.1011568605899811, 0.1070446372032166, -0.02710780128836632, 0.03629501536488533, 0.08397587388753891, -0.003366607706993818, -0.1070583686232567, -0.6520782709121704, 0.02592071518301964, -0.02226648107171059, -1.779553294181824, -0.1016612648963928, 0.01134753972291946, -0.07980231940746307, 0.001596205751411617, -0.04892868176102638, -0.04657819494605064, 0.1457196027040482, 0.1959805339574814, -0.1264779269695282, 0.04466432705521584, 0.3162560164928436, -0.1910796165466309, 0.00123398588038981, 0.2095508873462677, 0.1555829346179962, -0.0001722065208014101, 0.02041588351130486, -0.1016829833388329, 0.05450192466378212, -0.01213982235640287, -0.02879923209547997, -0.1135460808873177, -0.09221719950437546, 0.1157752349972725, -0.01981640048325062, 0.08440299332141876, -0.3358300924301147, 0.09887490421533585, -0.02098795771598816, -0.06314054131507874, 0.02386501431465149, 0.02271810732781887, 0.217581033706665, 0.0653592199087143, 0.0379520021378994, 0.02430861629545689, 0.04072608053684235, 0.06124003976583481, -0.1282817125320435, -0.2059896290302277, -0.02109526097774506, -0.02463240176439285, -0.002440410666167736, 0.1313335001468658, 0.1818302720785141, 0.01485299319028854, 0.09816780686378479, -0.007739574182778597, -0.06207158789038658, -0.004615192767232656, 0.01373593509197235, 0.01590784452855587, 0.05795050039887428, 0.06777965277433395, -0.3075550198554993, -0.03006979636847973, -0.124466747045517, -0.05854954943060875, -0.1149109899997711, 0.1665140390396118, -0.06040319427847862, -0.04834596067667007, -0.007977686822414398, 0.1039810851216316, 0.08531688153743744, -0.1118174716830254, -0.105925090610981, -0.002713754074648023, -0.04328595846891403, -0.1162723377346992, -0.1217400878667831, -0.1161887273192406, 0.02847613207995892, -0.04397638514637947, -0.03815753757953644, -0.03937795385718346, -0.2650138139724731, 0.1023061573505402, -0.03207564353942871, -0.09327828884124756, -0.1168760657310486, 0.0568390004336834, 0.1173753961920738, 0.1147275343537331, -0.1757467985153198, 0.1389547139406204, 0.1392911076545715, 0.02809301763772964, -0.04554383084177971, 0.06907962262630463, -0.06296907365322113, -0.07920454442501068, -0.1895626783370972, 0.2289370000362396, 0.09640120714902878, -0.07263784855604172, -0.05617952346801758, -0.0494014136493206, -0.8375657200813293, 0.02183085866272449, -0.009407790377736092, 0.0006374272634275258, 0.01302043627947569, -0.1469376236200333, -0.03454775363206863, 0.01971782930195332, -0.06028055027127266, 0.08761408925056458, 0.1501104682683945, 0.01491037849336863, -0.004397975746542215, 0.1676815897226334, 0.1315201967954636, -0.1150032207369804, -0.1758158355951309, 0.255995899438858, -0.3177129030227661, 0.0798928439617157, -0.06737343966960907, 0.002149762352928519, 0.02349389530718327, 0.017640495672822, -0.4006717801094055, 0.0007424973300658166, 0.1111862808465958, -0.1861934512853622, 0.1621948480606079, -0.1775476336479187, 0.09517647325992584, -0.2274706065654755, 0.140885978937149, -0.109080970287323, 0.04841376468539238, 0.02331679128110409, 0.1152457743883133, -0.1217439547181129, -0.06756919622421265, -0.04743073135614395, 0.03334472328424454, -0.08104279637336731, -0.003020716365426779, 0.153625875711441, -0.06606227159500122, -0.08133652061223984, -0.09945017099380493, -0.01053041778504848, -0.1060210391879082, 0.01732596009969711, 0.03023738227784634, -0.03380206599831581, 0.07307056337594986, 0.1988248378038406, -0.006401044316589832, 0.1446438878774643, 0.05909371748566628, -0.3782855272293091, -0.0999603345990181, 0.1798680871725082, 0.0168011300265789, -0.05582883581519127, 0.07804552465677261, 0.1172296032309532, 0.05823886021971703, -0.2233847379684448, 0.07690833508968353, 0.1080623269081116, -0.06822653114795685, 0.1590166240930557, 0.1001447811722755, 0.02079622447490692, -0.03716505691409111, -0.0635579377412796, -0.07222045958042145, 0.08750251680612564, -0.1172720640897751, 0.1325519531965256, -0.1123095899820328, 0.04406551644206047, 0.04985656216740608, -0.01500908005982637, 0.01555490586906672, 0.06470336019992828, -0.07154446095228195, 0.02291153371334076, -0.06096119433641434, -0.02970757707953453, -0.2305295765399933, -0.1049380600452423, 0.09376372396945953, -0.1228729411959648, -0.004273836966603994, -0.04328206181526184, 0.1712374687194824, 0.01252499502152205, 0.0683000460267067, 0.04878886044025421, 0.04630289599299431, 0.2560381293296814, 0.07365109026432037, -0.04815622791647911, 0.09504155069589615, 0.06780242174863815, 0.03104841336607933, -0.1749730706214905, 0.02921831049025059, 0.02346359752118587, -0.03339022025465965, 0.1551308035850525, -0.5209614634513855, -0.03077331557869911, -0.05746172741055489, 0.08873619884252548, -0.09508754312992096, -0.02052555233240128, -0.1540897786617279, -0.03768189251422882, -0.07335421442985535, -0.1996987164020538, -0.05543363466858864, 0.04930860549211502, -0.1573282480239868, -0.3213631212711334, 0.08594930171966553, 0.04806377738714218, 0.1015688180923462, 0.02622073702514172, -0.0618659146130085, -0.07810739427804947, 0.06055952236056328, -0.2193796932697296, -0.00832600798457861, 0.1188717037439346, -0.04982835054397583, 0.04085719957947731, -0.0964122787117958, 0.09829319268465042, 0.07091976702213287, -0.09863723814487457, -0.03384055569767952, -0.105616994202137, 0.1040783300995827, 0.0470520444214344, -0.1322799026966095, -0.103643886744976, -0.06200757250189781, -0.04069402813911438, 0.2596521377563477, -0.255028247833252, 0.0649455189704895, -0.07916352897882462, -0.0834968313574791, 0.07508424669504166, -0.03583129867911339, 0.004147192928940058, 0.004691774025559425, -0.08280078321695328, -0.06034660711884499, -0.1846417486667633, -0.01918691210448742, 0.1304808259010315, 0.1402940452098846, -0.05851361528038979, 0.003491919720545411, -0.0709991380572319, 0.1984906494617462, -0.2605707347393036, -0.03194539621472359, -0.02813823148608208, -0.05688651651144028, 0.02305541560053825, -0.03914398699998856, -0.1603101193904877, -0.1175249889492989, 0.3135436475276947, -0.1741686016321182, 0.006470446474850178, 0.1818804144859314, 0.02672855369746685, -0.2323506623506546, -0.1874108165502548, -0.0618441216647625, 0.1101395711302757, 0.4163689017295837, 0.1227426454424858, 0.04675459489226341, -0.1709361970424652, -0.05818516761064529, -0.1469917893409729, 0.1767624020576477, -0.1196345686912537, 0.06737002730369568, -0.03897329792380333, -0.08267583698034286, 0.01937493495643139, -0.01628664135932922, -0.01442964375019073, -0.06272785365581512, 0.1327930092811584, 0.2246551960706711, -0.1333686709403992, 0.1476616561412811, -0.006257211789488792, 0.06546404212713242, -0.2002862393856049, -0.3897882699966431, 0.1168889328837395, 0.1359587758779526, 0.1104409173130989, 0.1271596848964691, -0.1792317032814026, 0.1706838756799698, 0.002227661199867725, 0.05771586298942566, 0.1097151637077332, -0.0866575613617897, 0.1732674688100815, 0.06020960956811905, -0.1513998657464981, -0.06077086552977562, -0.1252389699220657, -0.03601992502808571, 0.1419968903064728, -0.007094095461070538, -0.05603750422596931, 0.1063664481043816, -0.03880371525883675, 0.2111869603395462, -0.1724444180727005, 0.2388133108615875, 0.08240485936403275, -0.04083885252475739, 0.06724173575639725, 0.1299171149730682, -0.004038674756884575, -0.005546591244637966, -0.0812317356467247, 0.1200324892997742, -0.03318405896425247, -0.03949914872646332, -0.005782344378530979, -0.1145102083683014, 0.02842720411717892, 0.07287682592868805, 0.00746929133310914, -0.1848603039979935, -0.05559462308883667, 0.02881716564297676, 0.1208744719624519, 0.0454987958073616, -0.04419400915503502, -0.08892770111560822, -0.113697312772274, 0.1881498843431473, -0.0375935286283493, -0.0006563619244843721, 0.04787791147828102, -0.1194210946559906, 0.1239991337060928, 0.03644545748829842, -0.02296552620828152, 0.08784224092960358, 0.1850836277008057, 0.07052889466285706, -0.0619707778096199, -0.04204967617988586, 0.007250795140862465, -0.1720243543386459, 0.01756696775555611, -0.07954003661870956, 0.06127632036805153, -0.1494044065475464, 0.07962290942668915, -0.08754138648509979, -0.05529661476612091, -0.0009413543157279491, -0.01763065904378891, -0.1621756255626678, -0.07014284282922745, 0.1732867658138275, 0.03985555469989777, 0.05313560366630554, -0.1093486174941063, -0.4346247613430023, 0.1462316066026688, -0.4438850581645966, -0.02000572718679905, -0.08588699251413345, -0.008248896338045597, 0.02675311639904976, -0.06988255679607391, 0.2125074714422226, 0.07169274240732193, -0.02745434641838074, 0.04767456278204918, 0.2826797068119049, -0.08005315065383911, -0.1000122129917145, 0.01743672229349613, -0.2419277727603912, 0.07490504533052444, -0.01231920905411243, 0.05636988952755928, 0.08721590787172318, 0.1095941513776779, -0.09194087982177734, -0.2404145896434784, 0.1528653353452682, 0.04485514014959335, -0.1613193601369858, 0.02870877645909786, 0.003371283644810319, -0.07465723156929016, -0.1054553538560867, -0.005954675376415253, 0.1621481329202652, 0.07784866541624069, 0.06396637111902237, 0.04257175698876381, -0.09730293601751328, 0.2001065015792847, 0.1199518740177155, -0.02603999152779579, -0.03437795490026474, -0.001660600421018898, -0.04368069022893906, 0.06308645755052567, -0.0998004674911499, 0.02756479196250439, -0.06836341321468353, 0.03975481539964676, -0.08752625435590744, 0.03576912358403206, -0.08663102984428406, -0.417017012834549, -0.06820093840360641, -0.006918306462466717, -0.08019409328699112, -0.0007873036665841937, 0.09299346059560776, -0.3080609738826752, 0.05694189667701721, 0.3790178894996643, 1.41635546242469e-05, -0.127747654914856, 0.03223998844623566, 0.0006391118513420224, 0.04934852197766304, 0.1220066472887993, 0.3053413033485413, -0.03169436007738113, 0.06594929844141006, -0.03050842508673668, 0.08187509328126907, 0.04365971311926842, 0.01974377781152725, 0.1321655213832855, -0.1114140823483467, 0.07865944504737854, 0.008938129991292953, -0.1003952696919441, -0.1440103799104691, 0.03399193286895752, -0.1497562527656555, 0.1509631276130676, -0.07693488150835037, 0.06667773425579071, -0.44935542345047, -0.03493861481547356, -0.1384364068508148, 0.1165593713521957, -0.281382828950882, -0.2559662759304047, -0.1984480619430542, 0.1584685444831848, -0.07733887434005737, -0.00914420373737812, -0.04846306517720222, -0.04442757368087769, -0.1771055161952972, 0.03259430080652237, 0.0813804343342781, 0.02392794005572796, 0.08778306841850281, -0.0622006393969059, 0.05818590894341469, 0.1235155612230301, 0.000863805937115103, -0.01936890743672848, 0.05281022563576698, 0.05445763468742371, -0.01786883920431137, -0.06650598347187042, 0.1341467648744583, 0.1986750960350037, 0.1151911616325378, -0.1004004180431366, 0.08688505738973618, -0.3181728422641754, 0.0586310587823391, -0.05089899525046349, 0.093832828104496, 0.01103066001087427, -0.03006770461797714, -0.00816818606108427, 0.08737125992774963, 0.0999067947268486, -0.08297170698642731, -0.006945632863789797, 0.02276524342596531, -0.02202248759567738, -0.1812424808740616, 0.01833814568817616, 0.007322383113205433, -0.04663673415780067, -0.118761882185936, -0.06023554876446724, -0.03868811950087547, 0.128301814198494, -0.1644395589828491, 0.05220801383256912, 0.016752690076828, 0.120028167963028, 0.09342720359563828, 0.005241428036242723, 0.1264634728431702, -0.1076708361506462, 0.06248216331005096, 0.2348615229129791, -0.04330195859074593, -0.03352943435311317, 0.03208382055163383, -0.1919091790914536, -0.0457880049943924, -0.04367124289274216, -0.07867711782455444, -0.1322203278541565, 0.07551971077919006, -0.1233125925064087, -0.1151246204972267, -0.00967961736023426, -0.07641668617725372, -0.040350042283535, -0.06593829393386841, -0.03351557999849319, -0.01053564622998238, 0.01317231915891171, -0.0885656327009201, 0.08498218655586243, 0.09629647433757782, -0.125448152422905, 0.1162737235426903, 0.01037965249270201, -0.009109591133892536, -0.03542788326740265, -0.02382958680391312, 0.08176308870315552, 0.05070669949054718, 0.0634278878569603, -0.1471443623304367, 0.06747659295797348, 0.03304196521639824, 0.0905546024441719, -0.03423401713371277, -0.07651516795158386, 0.1662212610244751, 0.009147996082901955, 0.05563803762197495, -0.003786560613662004, -0.04513245820999146, 0.1197397485375404, -0.03225019201636314, -0.06375511735677719, -0.1649730354547501, 0.1055508106946945, -0.2625989019870758, 0.01033489406108856, -0.1511515229940414, -0.08741651475429535, 0.1682124733924866, -0.09100355952978134, 0.06570672988891602, 0.073454350233078, 0.1030591726303101, 0.05119301006197929, 0.01936130039393902, 0.03016752190887928, 0.04125396907329559, -0.08566922694444656, 0.02549413032829762, 0.09513235092163086, 0.248483419418335, 0.0006689076544716954, 0.1006783097982407, 0.03189589828252792, -0.09083230048418045, 0.09353481978178024, 0.1926687955856323, -0.1350919455289841, 0.1868098974227905, 0.1399699598550797, 0.006046212743967772, 0.1225807219743729, -0.1010466665029526, 0.08797529339790344, -0.0004767298814840615, -0.1254646331071854, 0.08361460268497467, -0.1462283432483673, -0.07076773792505264, 0.05636907368898392, 0.415567547082901, -0.003436675062403083, -0.1889891475439072, 0.06999927759170532, 0.1354363858699799, 0.06948652863502502, -0.03578246384859085, -0.00785281602293253, -0.05466648936271667, -0.04918800666928291, 0.04205460846424103, 0.01902738027274609, -0.08522673696279526, -0.0581255741417408, -0.0569349080324173, 0.07946154475212097, 0.0519782081246376, -0.005350826308131218, -0.01637488231062889, -0.05947363376617432, -0.1178343519568443, -0.02314268052577972, -0.1593879908323288, 0.1477400809526443, -0.0589342936873436, -0.02952398732304573, 0.06157639622688293, -0.05177588760852814, 0.06085661426186562, -0.0182731319218874, 0.02896610647439957, -0.04281444475054741, -0.1111662462353706, -0.05389587208628654, 0.1532288789749146, 0.02803600765764713, -0.06502047926187515, -0.1287344098091125, 0.1860697865486145, 0.1556539982557297, -0.06815414875745773, -0.01014399621635675, -0.3737167119979858, -0.0165255032479763, 0.1419436782598495, 0.1687788069248199, 0.04210186377167702, 0.003543941769748926, -0.03150708600878716, -0.09969788044691086, -0.00856049545109272, -0.05035052448511124, 0.042140893638134, -0.01987113617360592, -0.0008394976612180471, 0.1312641948461533, -0.1249043494462967, -0.1614248603582382, 0.006091151852160692, 0.1635154783725739, -0.06249975040555, 0.1040266901254654, -0.1387190520763397, -0.1129376813769341, 0.1114305108785629, 0.1482933461666107, 0.09884727001190186, -0.198380246758461, -0.06509175896644592, -0.07757457345724106, -0.0113782025873661, -0.09386863559484482, 0.0728764608502388, 0.3078909814357758, -0.04208948835730553, 0.06144176796078682, 0.1135556474328041, 0.08586776256561279, 0.2796070575714111, -0.04875454679131508, 0.01341723278164864, -0.05843734741210938, 0.08132173866033554, 0.02288324199616909, 0.1624098867177963, -0.02982891164720058, 0.001288473722524941, 0.007960515096783638, -0.04151607677340508, 0.1133602783083916, -0.04606297984719276, -0.03060760721564293, 0.04041446372866631, 0.0850825160741806, -0.02978388220071793, 0.05451273173093796, 0.005340952891856432, -0.04102476686239243, -0.1321218311786652, 0.1703185737133026, 0.04069291427731514, -0.1858452558517456, 0.1653042882680893, -0.07288827002048492, -0.1186403781175613, 0.06914625316858292, 0.06127453222870827, 0.1580632776021957, 0.01606117933988571, -0.08221815526485443, 0.01635104417800903, 0.07189503312110901, -0.04662389308214188, 0.1692796796560287, 0.1633316725492477, -0.01909217610955238, -0.04023897275328636, 0.06344609707593918, -0.2817643582820892, 0.185404896736145, 0.1579640805721283, -0.007158360909670591, -0.01464816275984049, -0.1467433869838715, -0.08631517738103867, 0.2628819942474365, -0.02664301916956902, -0.03083295933902264, 0.1006192415952682, -0.02356387861073017, -0.2392154783010483, 0.06889012455940247, -0.1291704177856445, 0.1590067595243454, 0.07724248617887497, 0.05249903351068497, 0.4146784543991089, -0.1363192647695541, -0.05443120375275612, -0.02789650484919548, -0.04091265797615051, 0.1241124793887138, -0.0683586373925209, 0.06671878695487976, 0.02869159169495106, -0.08922655880451202, 0.1783314496278763, -0.3032880127429962, -0.1591747552156448, 0.05086901038885117, -0.05590706691145897, 0.0006179496995173395, -0.06529852002859116, 0.0476478673517704, 0.002221773145720363, -0.04131656885147095, -0.03649555891752243, 0.0395951010286808, 0.01221357844769955, -0.003759687300771475, -0.08330700546503067, 0.01594651117920876, 0.04961015656590462, 0.03231583535671234, -0.07554890960454941, -0.01172320544719696, 0.0483064092695713, -0.1611761152744293, -0.1663198918104172, 0.06461292505264282, 0.1867016553878784, 0.02315036579966545, -0.03028758615255356, 0.02838623523712158, 0.0003413796657696366, -0.1487266272306442, -0.009496697224676609, 0.03588023409247398, 0.04015229642391205, -0.1666178852319717, 0.06814716756343842, 0.02769175730645657, 0.06988231837749481, 0.01527466159313917, 0.002270142547786236, -0.03765840828418732, -0.0151990856975317, -0.09500917792320251, -0.1233182474970818, 0.002338395221158862, 0.05185429751873016, -0.04924209043383598, 0.01762482523918152, -0.05528939142823219, -0.05533378571271896, -0.0537884309887886, -0.06420397013425827, 0.210908979177475, -0.02155173383653164, -0.133753165602684, -0.01493577845394611, -0.1476452052593231, -0.1969567686319351, 0.04719933122396469, -0.1866645067930222, -0.149370014667511, 0.01635999977588654, -0.02203373983502388, -0.07396990060806274, 0.06607138365507126, 0.1104987859725952, 0.02422978915274143, 0.02691714093089104, -0.04646632075309753, -0.02113314531743526, 0.001099150977097452, -0.03090965189039707, -0.1960830092430115, 0.06215881556272507, -0.1515895277261734, 0.03087264485657215, -0.06057759001851082, 0.1681034862995148, 0.001897047273814678, -0.1081995815038681, -0.2396286725997925, 0.0828884169459343, 0.01734914071857929, -0.04332848638296127, -0.04028741642832756, 0.03062111325562, 0.1407984793186188, -0.1432375013828278, 0.01357276830822229, 0.2630468010902405, 0.00184587889816612, -0.170593336224556, -0.0935000628232956, 0.06353674083948135, -0.09124571830034256, -0.1872800588607788, 0.1251465529203415, 0.2935409843921661, 0.02726032212376595, 0.1795591711997986, 0.08758626133203506, -0.003317715367302299, -0.01453043520450592, 0.08675667643547058, 0.09165126830339432, 0.01264489162713289, -0.0837341696023941, 0.02244926057755947, 0.034870445728302, 0.008459317497909069, -0.0521792434155941, -0.01426906697452068, -0.2094718664884567, -0.1523638814687729, -0.03687034919857979, -0.1270006150007248, -0.0934869647026062, 0.073784738779068, 0.06321753561496735, 0.05407670885324478, 0.09721364080905914, 0.06183542311191559, -0.1940354704856873, -0.3744499683380127, 0.2497299611568451, -0.1191830039024353, 0.09236180782318115, -0.01882283389568329, -0.03858887031674385, -0.04313096776604652, 0.1038063243031502, -0.004328227136284113, 0.07895022630691528, -0.03871351853013039, -0.001817959127947688, -0.02420542016625404, -0.321257472038269, 0.01132123824208975, 0.1765753328800201, 0.0140934931114316, 0.2683702409267426, -0.121745690703392, -0.028028329834342, -0.1360706686973572, -0.1504323333501816, -0.08747811615467072, 0.7422498464584351, 0.04167976975440979, -0.122350737452507, -0.0649983361363411, -0.0021651741117239, -0.07477518916130066, -0.3539341688156128, -0.2032140791416168, 0.05716519802808762, 0.03766776248812675, 0.01091349590569735, -0.06334895640611649, 0.0720260813832283, 0.1358290165662766, 0.003273573238402605, -0.1427720785140991, -0.0582011342048645, -0.04817990958690643, -0.007400918751955032, 0.02550068870186806, 0.06623192876577377, -0.0101670129224658, 0.1666943430900574, 0.1185947805643082, -0.1702667027711868, 0.001156304380856454, -0.003803953994065523, -0.04258007928729057, 0.003121214685961604, 0.06633277982473373, -0.1694444417953491, 0.01116073783487082, 0.06515149772167206, 0.1498562395572662, -0.007337537594139576, -0.1565208733081818, -0.07575143128633499, -1.016357183456421, -0.006777418777346611, 0.05499209463596344, -0.07912323623895645, 0.04716010019183159, -0.135092630982399, 0.04374481737613678, -0.1055725067853928, 0.04254672676324844, -0.02726444974541664, 0.06161825358867645, 0.09150063246488571, -0.1297642886638641, 0.1841186434030533, -0.1766509115695953, -0.1836944073438644, -0.2061225473880768, 0.1480139195919037, -0.1218630746006966, -0.1786960810422897, -0.07689334452152252, -0.1360827386379242, 0.1692086011171341, -0.01715029217302799, 0.1768694370985031, 0.02468397282063961, 0.04654697701334953, -0.03429026901721954, -0.08979842066764832, -0.02250777743756771, -0.2515452802181244, 0.004204357974231243, 0.03473007306456566, -0.01899708621203899, -0.02067871950566769, 0.04147391393780708, -0.05611827597022057, 0.9536021947860718, 0.01057546120136976, 0.1115434989333153, -0.01646388322114944, -0.2573343813419342, -0.0138539420440793, -0.01051375921815634, 0.08691281825304031, 0.006385319866240025, -0.04644117131829262, -0.1232548654079437, -0.1100316569209099, -0.02054782025516033, -0.3476290106773376, -0.08621487766504288, 0.1937474608421326, -0.095833420753479, -0.2477266192436218, -0.1078478693962097, -0.0733317956328392, 0.02865120768547058, 0.04867001622915268, -0.1565226316452026, -0.1514531672000885, -0.01689267717301846, 0.08970671892166138, -0.1678348332643509, 0.0006451692897826433, -0.04194797202944756, -0.08538635075092316, 0.1022495552897453, -0.1890119612216949, 0.02467648684978485, -0.05582191422581673, 0.5553760528564453, 0.06527511775493622, 0.01411630772054195, 0.04369231685996056, -0.2028606534004211, -0.1635408848524094, -0.278074711561203, -0.01865007169544697, -0.4872128069400787, -0.4495726525783539, 0.08070719987154007, 0.0356282964348793, -0.01240106765180826, -0.1770472973585129, 0.04361811652779579, 0.005582711659371853, 0.01486692111939192, 0.8024102449417114, 0.1672063618898392, -0.04038355499505997, -0.04994963109493256, 0.0486479252576828, -0.179877445101738, -0.08759206533432007, 0.0330660417675972, 0.02667605131864548, -0.09244085103273392, -0.1132714971899986, -0.1255782693624496, -0.0101444385945797, 0.09455027431249619, 0.0002211431710748002, -0.02285408414900303, -0.1305797547101974, -0.06565169245004654, -0.103338710963726, 0.06826947629451752, -0.001455589663237333, 0.02700963616371155, -0.02457064390182495, -0.03226839751005173, -0.003234239527955651, 0.092213474214077, -0.03031168319284916, 0.02414835803210735, 0.08002744615077972, 0.05389054864645004, 0.04287316277623177, 0.02100579999387264, 0.106887586414814, -0.06022243946790695, -0.04786059632897377, 0.09926608949899673, -0.04429725930094719, -0.01004706975072622, 0.08458951860666275, -0.00329214078374207, 0.03206415474414825, -0.04087743163108826, -0.05201421678066254, -0.2672323286533356, -0.04049970209598541, -0.3448368906974792, 0.2072298228740692, -0.01481861714273691, -0.05015458539128304, 0.06418752670288086, 0.07246211916208267, 0.01925525814294815, 0.05779539421200752, -0.01721923798322678, -0.08153420686721802, -0.1192395985126495, -0.01851347461342812, -0.1733079105615616, -0.03891591727733612, 0.04213440790772438, 0.08387693762779236, -0.1205845102667809, -0.2425507158041, -0.05142342671751976, 0.07494115084409714, -0.134016752243042, -0.04223620146512985, -0.06084686517715454, -0.205821305513382, -0.08008714020252228, 0.01523292250931263, 0.06938736885786057, 0.02399645373225212, -0.02617292106151581]\n",
      "\n",
      "Predicted melting temperature for GFP: 47.54°C\n"
     ]
    }
   ],
   "source": [
    "# Load the saved model\n",
    "loaded_model = joblib.load(model_path)\n",
    "\n",
    "# Get GFP sequence embedding\n",
    "gfp_sequence = \"MSKGEELFTGVVPILVELDGDVNGHKFSVSGEGEGDATYGKLTLKFICTTGKLPVPWPTLVTTFSYGVQCFSRYPDHMKQHDFFKSAMPEGYVQERTIFFKDDGNYKTRAEVKFEGDTLVNRIELKGIDFKEDGNILGHKLEYNYNSHNVYIMADKQKNGIKVNFKIRHNIEDGSVQLADHYQQNTPIGDGPVLLPDNHYLSTQSALSKDPNEKRDHMVLLEFVTAAGITHGMDELYK\"\n",
    "\n",
    "query = MeanEmbeddingQuery(sequence=gfp_sequence, model=aa0_model)\n",
    "response = client.send_request(query)\n",
    "gfp_embedding = response.embedding\n",
    "print(gfp_embedding)\n",
    "# Convert the embedding to a DataFrame for prediction\n",
    "gfp_embedding_df = pd.DataFrame([gfp_embedding], columns=[f\"e-{i}\" for i in range(len(gfp_embedding))])\n",
    "\n",
    "# Make prediction\n",
    "gfp_pred = loaded_model.predict(gfp_embedding_df)[0]\n",
    "print(f\"\\nPredicted melting temperature for GFP: {gfp_pred:.2f}°C\")"
   ]
  },
  {
   "cell_type": "markdown",
   "metadata": {},
   "source": [
    "## Final thoughts\n",
    "\n",
    "Our model predicts that GFP has a high melting temperature. There is evidence supporting this, as GFP is known to be very heat stable, with a [melting point around 83°C](https://doi.org/10.1016/S0040-6031(03)00397-6). This melting point is significantly higher than the optimal growth temperature of its host, the [water jellyfish](https://en.wikipedia.org/wiki/Aequorea_victoria).\n",
    "\n",
    "Due to how this dataset was constructed, it's possible that our model actually learned to predict patterns related to species rather than temperature. Such considerations are always important when training functional ML models. I strongly recommend using this model approach with another dataset and being mindful of the patterns that models can pick up, which may not always align with the intended measurements.\n",
    "\n",
    "There's definitely room for improvement, most likely in data quality and training set size. It's very important to provide ML models with accurate and well-prepared datasets. [Ginkgo Datapoints](https://www.ginkgobioworks.com/datapoints/) is a great resource for such dataset!"
   ]
  },
  {
   "cell_type": "markdown",
   "metadata": {},
   "source": [
    "## Excersises and follow-ups\n",
    "\n",
    "I strongly encourage everyone to modify this tutorial and experiment with different things. Here are few ideas:\n",
    "\n",
    "* Train different regression models instead of XGBoost, like logistic regression.\n",
    "* Find other regression datasets and try to predict different properties, such as pH stability or binding affinity.\n",
    "* Try to train a classifier model in a similar way."
   ]
  },
  {
   "cell_type": "markdown",
   "metadata": {},
   "source": [
    "## Further reading\n",
    "\n",
    "I hope you enjoyed this short, functional tour on how to leverage deep learning foundation models (and our API!) to solve applied scientific problems. If you want to learn more about general machine learning and deep learning, I recommend the following materials:\n",
    "\n",
    "* [Hands-On Machine Learning with Scikit-Learn, Keras, and TensorFlow: Concepts, Tools, and Techniques to Build Intelligent Systems](https://www.amazon.com/Hands-Machine-Learning-Scikit-Learn-TensorFlow/dp/1098125975) by Aurélien Géron\n",
    "    * This book is an all-time classic. It builds solid foundations for both classical machine learning and deep learning. It uses TensorFlow for the deep learning part, which is less popular in scientific ML (PyTorch is the king here), but the concepts are very easy to transfer.\n",
    "\n",
    "* [FastAI](https://course.fast.ai/)\n",
    "    * FastAI is an amazing video course and community. It's focused on the very practical use of deep learning and has you train a functional deep learning model almost immediately. It digs deeper into theory and important concepts later on.\n",
    "\n",
    "* [Kaggle](https://www.kaggle.com/)\n",
    "    * Kaggle, which is also the source of our dataset here, is a great resource to practice what you've learned. Each competition will have a prepared dataset and a clear goal. There's also a very strong community of people who share their work and thinking process through well-written notebooks.\n",
    "\n",
    "* 3blue1brown made fantastic series of [videos](https://www.youtube.com/watch?v=aircAruvnKk) about deep learning under the hood.\n",
    "\n",
    "* Free [Stanford course](https://www.youtube.com/watch?v=jGwO_UgTS7I&list=PLoROMvodv4rMiGQp3WXShtMGgzqpfVfbU) and other materials made by Andrew Ng.\n",
    "\n",
    "* [Probabilistic Machine Learning: An Introduction](https://probml.github.io/pml-book/book1.html) is a very detailed overview of machine learning.\n",
    "\n",
    "* [The Hundred-Page Machine Learning Book](https://themlbook.com/) by Andriy Burkov.\n",
    "\n",
    "    "
   ]
  },
  {
   "cell_type": "markdown",
   "metadata": {},
   "source": []
  }
 ],
 "metadata": {
  "kernelspec": {
   "display_name": "Python 3",
   "language": "python",
   "name": "python3"
  },
  "language_info": {
   "codemirror_mode": {
    "name": "ipython",
    "version": 3
   },
   "file_extension": ".py",
   "mimetype": "text/x-python",
   "name": "python",
   "nbconvert_exporter": "python",
   "pygments_lexer": "ipython3",
   "version": "3.12.3"
  }
 },
 "nbformat": 4,
 "nbformat_minor": 2
}
