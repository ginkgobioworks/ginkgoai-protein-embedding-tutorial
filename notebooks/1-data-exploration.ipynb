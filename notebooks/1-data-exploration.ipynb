{
 "cells": [
  {
   "cell_type": "code",
   "execution_count": 1,
   "metadata": {},
   "outputs": [],
   "source": [
    "import numpy as np\n",
    "import pandas as pd"
   ]
  },
  {
   "cell_type": "markdown",
   "metadata": {},
   "source": [
    "# Data exploration\n",
    "\n",
    "The first step to building a reliable machine learning model is to understand your data. ML lives and dies by the quality of the dataset.\n",
    "\n",
    "Our dataset consists of two sets of files: train and test. The train set is the dataset that will be used for, well, training the model. To ensure that our model actually provides reliable predictions for proteins that aren't present in our training set, we also have a separate test set that we'll use to measure the performance of our model. \n",
    "X and y in filenames typically mean inputs and labels. That is, what we'll be inputting into the model (in our case, protein sequence) and what value we want to predict (temperature)."
   ]
  },
  {
   "cell_type": "code",
   "execution_count": 2,
   "metadata": {},
   "outputs": [],
   "source": [
    "data_root = \"../data\"  # Remember to download the Kaggle dataset to here (from the README)\n"
   ]
  },
  {
   "cell_type": "code",
   "execution_count": 3,
   "metadata": {},
   "outputs": [],
   "source": [
    "train_sequences = np.load(f\"{data_root}/X_train.npy\")\n",
    "train_temperatures = np.load(f\"{data_root}/y_train.npy\")\n",
    "\n",
    "test_sequences = np.load(f\"{data_root}/X_test.npy\")\n",
    "test_temperatures = np.load(f\"{data_root}/y_test.npy\")"
   ]
  },
  {
   "cell_type": "markdown",
   "metadata": {},
   "source": [
    "Let's look at our inputs first."
   ]
  },
  {
   "cell_type": "code",
   "execution_count": 4,
   "metadata": {},
   "outputs": [
    {
     "data": {
      "text/plain": [
       "(6149359, 650)"
      ]
     },
     "execution_count": 4,
     "metadata": {},
     "output_type": "execute_result"
    }
   ],
   "source": [
    "train_sequences.shape"
   ]
  },
  {
   "cell_type": "markdown",
   "metadata": {},
   "source": [
    "Our training sequence set has `6,149,359` records, each representing one protein. The longest protein in our dataset is 650 amino acids. Let's take a look at an example sequence."
   ]
  },
  {
   "cell_type": "code",
   "execution_count": 5,
   "metadata": {},
   "outputs": [
    {
     "data": {
      "text/plain": [
       "array([11, 15,  8,  6,  8, 10,  6,  1,  6, 14, 10,  6, 15, 11, 10,  1, 10,\n",
       "        1,  6, 20, 13, 10,  3,  5,  3,  5, 18,  5, 10,  3, 13,  1, 17,  4,\n",
       "        1,  2,  1,  1, 13, 10,  6, 17,  7,  5, 15,  1,  1, 20,  3,  3,  4,\n",
       "       12,  1, 10, 16,  1,  5,  2,  6, 16,  8,  3, 18,  1, 17, 20,  4,  5,\n",
       "        4, 12, 18, 13,  1,  9, 17,  1,  4,  5, 18, 16,  1, 15, 18, 13, 10,\n",
       "       10, 13,  1, 13,  8,  1, 10, 16, 18,  6, 14,  3, 15, 10, 16,  4,  9,\n",
       "       17, 10,  5,  3, 14, 10,  6,  8, 13, 18, 13, 15, 20, 10, 13, 18, 16,\n",
       "       17, 15,  1,  3, 10,  3, 15,  1, 18,  7,  1,  8,  6, 10, 13,  1, 18,\n",
       "       10,  9, 17, 15, 15, 10,  6, 20,  3,  6,  9,  6, 14,  1, 18, 10, 15,\n",
       "       17, 13, 14,  3, 10,  3,  1,  1, 19,  1, 15, 10,  6, 17, 14, 13, 10,\n",
       "        8, 10,  4,  1,  5, 18,  1,  5,  4, 15,  4, 10, 16,  2, 10,  1, 18,\n",
       "       15,  3,  9, 12,  6,  1, 10,  1,  5, 20, 13, 18, 18,  4, 12, 18,  7,\n",
       "       15,  3,  6,  8, 10, 15, 17,  1, 17, 13, 15,  1, 12,  3, 13, 10, 14,\n",
       "       17, 14,  1,  4,  4, 20,  1, 15, 15, 18, 18,  3,  7, 10,  6, 20, 18,\n",
       "        6, 18, 10,  1,  5,  4,  5,  5, 18,  1,  6,  6,  1, 10, 20,  6, 12,\n",
       "        4,  8,  1, 13, 15, 18,  7, 12, 16,  6,  7, 19, 17,  8,  4,  6,  1,\n",
       "        4,  2, 16, 14,  5,  4, 12,  7, 10, 15,  1,  8,  1,  6, 10, 13, 10,\n",
       "        6, 16, 17,  1, 10, 15,  6,  7, 16,  1, 11, 18, 12,  5,  8,  6,  1,\n",
       "        1, 13,  3, 12,  1,  1, 10,  1,  1,  8, 13,  6, 18,  7,  8,  7,  7,\n",
       "       20,  6,  9, 17, 13,  9, 13, 14, 15,  9, 18,  6,  7,  1, 17, 18, 17,\n",
       "        1,  3, 16,  1,  1,  4, 10,  1,  4, 15, 10, 15, 15, 10, 14,  3, 10,\n",
       "       18, 15,  1,  1,  4, 16,  0,  0,  0,  0,  0,  0,  0,  0,  0,  0,  0,\n",
       "        0,  0,  0,  0,  0,  0,  0,  0,  0,  0,  0,  0,  0,  0,  0,  0,  0,\n",
       "        0,  0,  0,  0,  0,  0,  0,  0,  0,  0,  0,  0,  0,  0,  0,  0,  0,\n",
       "        0,  0,  0,  0,  0,  0,  0,  0,  0,  0,  0,  0,  0,  0,  0,  0,  0,\n",
       "        0,  0,  0,  0,  0,  0,  0,  0,  0,  0,  0,  0,  0,  0,  0,  0,  0,\n",
       "        0,  0,  0,  0,  0,  0,  0,  0,  0,  0,  0,  0,  0,  0,  0,  0,  0,\n",
       "        0,  0,  0,  0,  0,  0,  0,  0,  0,  0,  0,  0,  0,  0,  0,  0,  0,\n",
       "        0,  0,  0,  0,  0,  0,  0,  0,  0,  0,  0,  0,  0,  0,  0,  0,  0,\n",
       "        0,  0,  0,  0,  0,  0,  0,  0,  0,  0,  0,  0,  0,  0,  0,  0,  0,\n",
       "        0,  0,  0,  0,  0,  0,  0,  0,  0,  0,  0,  0,  0,  0,  0,  0,  0,\n",
       "        0,  0,  0,  0,  0,  0,  0,  0,  0,  0,  0,  0,  0,  0,  0,  0,  0,\n",
       "        0,  0,  0,  0,  0,  0,  0,  0,  0,  0,  0,  0,  0,  0,  0,  0,  0,\n",
       "        0,  0,  0,  0,  0,  0,  0,  0,  0,  0,  0,  0,  0,  0,  0,  0,  0,\n",
       "        0,  0,  0,  0,  0,  0,  0,  0,  0,  0,  0,  0,  0,  0,  0,  0,  0,\n",
       "        0,  0,  0,  0,  0,  0,  0,  0,  0,  0,  0,  0,  0,  0,  0,  0,  0,\n",
       "        0,  0,  0,  0,  0,  0,  0,  0,  0,  0,  0,  0,  0,  0,  0,  0,  0,\n",
       "        0,  0,  0,  0,  0,  0,  0,  0,  0,  0,  0,  0,  0,  0,  0,  0,  0,\n",
       "        0,  0,  0,  0], dtype=int8)"
      ]
     },
     "execution_count": 5,
     "metadata": {},
     "output_type": "execute_result"
    }
   ],
   "source": [
    "train_sequences[0]"
   ]
  },
  {
   "cell_type": "markdown",
   "metadata": {},
   "source": [
    "This dataset encodes protein sequences as integers. Each number represents one amino acid. Because proteins vary in length, most sequences will be padded with `0s` at the end.\n",
    "\n",
    "Next, let's take a look at our labels: the temperatures our model will try to predict."
   ]
  },
  {
   "cell_type": "code",
   "execution_count": 6,
   "metadata": {},
   "outputs": [
    {
     "name": "stdout",
     "output_type": "stream",
     "text": [
      "(6149359,)\n",
      "49.0\n"
     ]
    }
   ],
   "source": [
    "train_ds_temperatures = np.load(f\"{data_root}/y_train.npy\")\n",
    "print(train_ds_temperatures.shape)\n",
    "print(train_ds_temperatures[0])"
   ]
  },
  {
   "cell_type": "markdown",
   "metadata": {},
   "source": [
    "Pretty straightforward. The number of records is exactly the same as number of proteins, and the first protein is labeled as 49C."
   ]
  },
  {
   "cell_type": "markdown",
   "metadata": {},
   "source": [
    "## Data exploration\n",
    "\n",
    "We need to understand how the dataset was created and what the labels mean.\n",
    "\n",
    "In our case, this dataset was derived from the optimal growth temperature of each organism. This may not represent the actual thermostability of the protein. Proteins may be stable at higher temperatures than the organism itself evolved to live in, or there may be other mechanisms in the organism's cell that would stabilize the protein.\n",
    "Besides that, we could make a few plots to understand our dataset better."
   ]
  },
  {
   "cell_type": "code",
   "execution_count": 7,
   "metadata": {},
   "outputs": [
    {
     "data": {
      "text/html": [
       "<div>\n",
       "<style scoped>\n",
       "    .dataframe tbody tr th:only-of-type {\n",
       "        vertical-align: middle;\n",
       "    }\n",
       "\n",
       "    .dataframe tbody tr th {\n",
       "        vertical-align: top;\n",
       "    }\n",
       "\n",
       "    .dataframe thead th {\n",
       "        text-align: right;\n",
       "    }\n",
       "</style>\n",
       "<table border=\"1\" class=\"dataframe\">\n",
       "  <thead>\n",
       "    <tr style=\"text-align: right;\">\n",
       "      <th></th>\n",
       "      <th>temperature</th>\n",
       "    </tr>\n",
       "  </thead>\n",
       "  <tbody>\n",
       "    <tr>\n",
       "      <th>0</th>\n",
       "      <td>49.0</td>\n",
       "    </tr>\n",
       "    <tr>\n",
       "      <th>1</th>\n",
       "      <td>30.0</td>\n",
       "    </tr>\n",
       "    <tr>\n",
       "      <th>2</th>\n",
       "      <td>30.0</td>\n",
       "    </tr>\n",
       "    <tr>\n",
       "      <th>3</th>\n",
       "      <td>37.0</td>\n",
       "    </tr>\n",
       "    <tr>\n",
       "      <th>4</th>\n",
       "      <td>33.0</td>\n",
       "    </tr>\n",
       "    <tr>\n",
       "      <th>...</th>\n",
       "      <td>...</td>\n",
       "    </tr>\n",
       "    <tr>\n",
       "      <th>6149354</th>\n",
       "      <td>30.0</td>\n",
       "    </tr>\n",
       "    <tr>\n",
       "      <th>6149355</th>\n",
       "      <td>28.0</td>\n",
       "    </tr>\n",
       "    <tr>\n",
       "      <th>6149356</th>\n",
       "      <td>33.5</td>\n",
       "    </tr>\n",
       "    <tr>\n",
       "      <th>6149357</th>\n",
       "      <td>28.0</td>\n",
       "    </tr>\n",
       "    <tr>\n",
       "      <th>6149358</th>\n",
       "      <td>28.0</td>\n",
       "    </tr>\n",
       "  </tbody>\n",
       "</table>\n",
       "<p>6149359 rows × 1 columns</p>\n",
       "</div>"
      ],
      "text/plain": [
       "         temperature\n",
       "0               49.0\n",
       "1               30.0\n",
       "2               30.0\n",
       "3               37.0\n",
       "4               33.0\n",
       "...              ...\n",
       "6149354         30.0\n",
       "6149355         28.0\n",
       "6149356         33.5\n",
       "6149357         28.0\n",
       "6149358         28.0\n",
       "\n",
       "[6149359 rows x 1 columns]"
      ]
     },
     "execution_count": 7,
     "metadata": {},
     "output_type": "execute_result"
    }
   ],
   "source": [
    "df_temperatures = pd.DataFrame(train_ds_temperatures, columns=[\"temperature\"])\n",
    "df_temperatures"
   ]
  },
  {
   "cell_type": "code",
   "execution_count": 8,
   "metadata": {},
   "outputs": [
    {
     "data": {
      "image/png": "[encoded data removed]",
      "text/plain": [
       "<Figure size 1000x600 with 1 Axes>"
      ]
     },
     "metadata": {},
     "output_type": "display_data"
    }
   ],
   "source": [
    "import seaborn as sns\n",
    "import matplotlib.pyplot as plt\n",
    "\n",
    "plt.figure(figsize=(10, 6))\n",
    "sns.histplot(data=df_temperatures, x=\"temperature\", binwidth=1)\n",
    "plt.title(\"Distribution of Protein Temperatures\")\n",
    "plt.xlabel(\"Temperature (°C)\")\n",
    "plt.ylabel(\"Count\")\n",
    "plt.show()"
   ]
  },
  {
   "cell_type": "markdown",
   "metadata": {},
   "source": [
    "This histogram tells us that our dataset is quite imbalanced. This is somewhat expected, as most of life exists in a range around 36C. That also tells us that our model may not be great at predicting proteins far outside of that range. We won't address the data imbalance in this tutorial, but it's good to be aware of it. \n",
    "Another observation is that most of our data has round numbers (around 5C increments). This isn't surprising and may not be too big of a deal, but if your goal is to predict temperature precisely, it may require some more thought."
   ]
  },
  {
   "cell_type": "markdown",
   "metadata": {},
   "source": [
    "We have quite a large set of 7 million proteins to work with. Let's use this to create a smaller dataset, around 10k sequences, that will also be more balanced and, therefore, help our model learn patterns across the whole range. We will lose some fidelity in our data, but  tradeoffs like this may be necessary depending on the specific requirements of the task.\n",
    "\n",
    "Our free API tier allows generating embeddings for 2000 sequences, so let's create 10 temperature bins with (almost) 200 sequences each. This is a very small fraction of data, but should be enough to demonstrate that it's possible to train a functional model as a proof of concept even on such a tiny dataset."
   ]
  },
  {
   "cell_type": "code",
   "execution_count": 9,
   "metadata": {},
   "outputs": [],
   "source": [
    "target_per_bin = 190  # We'll use 1900 out of the 2000 free sequences, leaving us 100 sequences to play with"
   ]
  },
  {
   "cell_type": "code",
   "execution_count": 10,
   "metadata": {},
   "outputs": [
    {
     "name": "stdout",
     "output_type": "stream",
     "text": [
      "Original dataset size: 6,149,359\n",
      "Balanced dataset size: 1900\n",
      "Balanced sequences shape: (1900, 650)\n"
     ]
    },
    {
     "data": {
      "image/png": "[encoded data removed]",
      "text/plain": [
       "<Figure size 1000x600 with 1 Axes>"
      ]
     },
     "metadata": {},
     "output_type": "display_data"
    }
   ],
   "source": [
    "# Create bins for temperatures to help with balancing\n",
    "bins = list(range(0, 101, 10))  # Create bins of 10 degrees from 0-100 \n",
    "df_temperatures['temp_bin'] = pd.cut(df_temperatures['temperature'], bins=bins)\n",
    "\n",
    "# Get counts per bin to determine sampling strategy\n",
    "bin_counts = df_temperatures['temp_bin'].value_counts()\n",
    "\n",
    "\n",
    "# Sample from each bin\n",
    "balanced_indices = []\n",
    "for bin_name in bin_counts.index:\n",
    "    bin_df = df_temperatures[df_temperatures['temp_bin'] == bin_name]\n",
    "    \n",
    "    # If the bin has less than the target, take all samples\n",
    "    # Otherwise sample target_per_bin entries\n",
    "    n_samples = min(len(bin_df), target_per_bin)\n",
    "    sampled_indices = bin_df.sample(n=n_samples).index\n",
    "    balanced_indices.extend(sampled_indices)\n",
    "\n",
    "# Convert indices list to numpy array for indexing\n",
    "balanced_indices = np.array(balanced_indices)\n",
    "\n",
    "# Get corresponding sequences\n",
    "balanced_sequences = train_sequences[balanced_indices]\n",
    "\n",
    "# Create a new balanced dataframe using the collected indices\n",
    "df_temperatures_balanced = df_temperatures.loc[balanced_indices].copy()\n",
    "\n",
    "# Drop the binning column and shuffle\n",
    "df_temperatures_balanced = df_temperatures_balanced.drop('temp_bin', axis=1)\n",
    "\n",
    "# Create a permutation for shuffling both arrays consistently\n",
    "np.random.seed(42)\n",
    "permutation = np.random.permutation(len(df_temperatures_balanced))\n",
    "df_temperatures_balanced = df_temperatures_balanced.iloc[permutation].reset_index(drop=True)\n",
    "balanced_sequences = balanced_sequences[permutation]\n",
    "\n",
    "print(f\"Original dataset size: {len(df_temperatures):,}\")\n",
    "print(f\"Balanced dataset size: {len(df_temperatures_balanced)}\")\n",
    "print(f\"Balanced sequences shape: {balanced_sequences.shape}\")\n",
    "\n",
    "plt.figure(figsize=(10, 6))\n",
    "sns.histplot(data=df_temperatures_balanced, x=\"temperature\", bins=30)\n",
    "plt.title(\"Distribution of Protein Temperatures\")\n",
    "plt.xlabel(\"Temperature (°C)\")\n",
    "plt.ylabel(\"Count\")\n",
    "plt.show()"
   ]
  },
  {
   "cell_type": "code",
   "execution_count": 11,
   "metadata": {},
   "outputs": [
    {
     "data": {
      "text/html": [
       "<div>\n",
       "<style scoped>\n",
       "    .dataframe tbody tr th:only-of-type {\n",
       "        vertical-align: middle;\n",
       "    }\n",
       "\n",
       "    .dataframe tbody tr th {\n",
       "        vertical-align: top;\n",
       "    }\n",
       "\n",
       "    .dataframe thead th {\n",
       "        text-align: right;\n",
       "    }\n",
       "</style>\n",
       "<table border=\"1\" class=\"dataframe\">\n",
       "  <thead>\n",
       "    <tr style=\"text-align: right;\">\n",
       "      <th></th>\n",
       "      <th>temperature</th>\n",
       "    </tr>\n",
       "  </thead>\n",
       "  <tbody>\n",
       "    <tr>\n",
       "      <th>0</th>\n",
       "      <td>80.0</td>\n",
       "    </tr>\n",
       "    <tr>\n",
       "      <th>1</th>\n",
       "      <td>26.0</td>\n",
       "    </tr>\n",
       "    <tr>\n",
       "      <th>2</th>\n",
       "      <td>60.0</td>\n",
       "    </tr>\n",
       "    <tr>\n",
       "      <th>3</th>\n",
       "      <td>60.0</td>\n",
       "    </tr>\n",
       "    <tr>\n",
       "      <th>4</th>\n",
       "      <td>75.0</td>\n",
       "    </tr>\n",
       "  </tbody>\n",
       "</table>\n",
       "</div>"
      ],
      "text/plain": [
       "   temperature\n",
       "0         80.0\n",
       "1         26.0\n",
       "2         60.0\n",
       "3         60.0\n",
       "4         75.0"
      ]
     },
     "execution_count": 11,
     "metadata": {},
     "output_type": "execute_result"
    }
   ],
   "source": [
    "df_temperatures_balanced.head()"
   ]
  },
  {
   "cell_type": "markdown",
   "metadata": {},
   "source": [
    "Next, let's process our sequences, and convert them to sequences of single-letter amino acids (that's what our model expects)."
   ]
  },
  {
   "cell_type": "code",
   "execution_count": 12,
   "metadata": {},
   "outputs": [
    {
     "name": "stdout",
     "output_type": "stream",
     "text": [
      "Number of sequences: 1900\n",
      "\n",
      "First sequence:\n",
      "MRKTALLLIFIIFSAGCLGGQKYTSTTVTETVKETVTETTTKTVRETTTETETKTMTETFTPIEKLKQLNSTIKELNQTVVRLNQSLTSCLSILSSQNETIIEQKEKINQLESAYLSCLLQKSTQQNSEFRVLFGREYYYEVLKTIEEANESIYIAMFLMKYDAGDSFDWANDLSRALVRAKKRGLNIYVVLENSVEINQAAYSYLRTNGIKVRFDSPDRTLHAKIVVIDGKVAFIGSHNWSESGLYWNNEVSVEIKSKEVAQEVISYIMSIQ\n"
     ]
    }
   ],
   "source": [
    "def convert_sequence(protein):\n",
    "    # Map numbers to amino acid letters\n",
    "    number_to_aa = {\n",
    "        1: 'A', 2: 'C', 3: 'D', 4: 'E', 5: 'F', 6: 'G', 7: 'H', 8: 'I', \n",
    "        9: 'K', 10: 'L', 11: 'M', 12: 'N', 13: 'P', 14: 'Q', 15: 'R',\n",
    "        16: 'S', 17: 'T', 18: 'V', 19: 'W', 20: 'Y', 0: ''\n",
    "    }\n",
    "    return ''.join(number_to_aa[num] for num in protein)\n",
    "\n",
    "def convert_to_sequences(protein_array):\n",
    "    from multiprocessing import Pool\n",
    "    import tqdm.auto as tqdm\n",
    "    \n",
    "    sequences = []\n",
    "    for protein in protein_array:\n",
    "        sequences.append(convert_sequence(protein))\n",
    "    # Create dataframe\n",
    "    return pd.DataFrame(sequences, columns=['sequence'])\n",
    "\n",
    "# Convert the training sequences\n",
    "df_sequences = convert_to_sequences(balanced_sequences)\n",
    "print(f\"Number of sequences: {len(df_sequences)}\")\n",
    "print(\"\\nFirst sequence:\")\n",
    "print(df_sequences.iloc[0]['sequence'])\n"
   ]
  },
  {
   "cell_type": "code",
   "execution_count": 13,
   "metadata": {},
   "outputs": [
    {
     "data": {
      "text/html": [
       "<div>\n",
       "<style scoped>\n",
       "    .dataframe tbody tr th:only-of-type {\n",
       "        vertical-align: middle;\n",
       "    }\n",
       "\n",
       "    .dataframe tbody tr th {\n",
       "        vertical-align: top;\n",
       "    }\n",
       "\n",
       "    .dataframe thead th {\n",
       "        text-align: right;\n",
       "    }\n",
       "</style>\n",
       "<table border=\"1\" class=\"dataframe\">\n",
       "  <thead>\n",
       "    <tr style=\"text-align: right;\">\n",
       "      <th></th>\n",
       "      <th>sequence</th>\n",
       "      <th>temperature</th>\n",
       "    </tr>\n",
       "  </thead>\n",
       "  <tbody>\n",
       "    <tr>\n",
       "      <th>0</th>\n",
       "      <td>MRKTALLLIFIIFSAGCLGGQKYTSTTVTETVKETVTETTTKTVRE...</td>\n",
       "      <td>80.0</td>\n",
       "    </tr>\n",
       "    <tr>\n",
       "      <th>1</th>\n",
       "      <td>MAADNSSTAAPAPSLRRDLKARHLSMIAIGGSIGTGLFVASGATIS...</td>\n",
       "      <td>26.0</td>\n",
       "    </tr>\n",
       "    <tr>\n",
       "      <th>2</th>\n",
       "      <td>MDWTIRLNRALDYIEDYLADEVDLDYAAKLAFCNRNDLSKMFFIVT...</td>\n",
       "      <td>60.0</td>\n",
       "    </tr>\n",
       "    <tr>\n",
       "      <th>3</th>\n",
       "      <td>MTRFGGVGSVNALVENQKAYLLSCQLPSGAFRLAPRRDQINPYFTN...</td>\n",
       "      <td>60.0</td>\n",
       "    </tr>\n",
       "    <tr>\n",
       "      <th>4</th>\n",
       "      <td>MQVQASSQGFLDVISAIYHIMEAEKVVESYDPKVCELLEQAKEYLI...</td>\n",
       "      <td>75.0</td>\n",
       "    </tr>\n",
       "  </tbody>\n",
       "</table>\n",
       "</div>"
      ],
      "text/plain": [
       "                                            sequence  temperature\n",
       "0  MRKTALLLIFIIFSAGCLGGQKYTSTTVTETVKETVTETTTKTVRE...         80.0\n",
       "1  MAADNSSTAAPAPSLRRDLKARHLSMIAIGGSIGTGLFVASGATIS...         26.0\n",
       "2  MDWTIRLNRALDYIEDYLADEVDLDYAAKLAFCNRNDLSKMFFIVT...         60.0\n",
       "3  MTRFGGVGSVNALVENQKAYLLSCQLPSGAFRLAPRRDQINPYFTN...         60.0\n",
       "4  MQVQASSQGFLDVISAIYHIMEAEKVVESYDPKVCELLEQAKEYLI...         75.0"
      ]
     },
     "execution_count": 13,
     "metadata": {},
     "output_type": "execute_result"
    }
   ],
   "source": [
    "df_sequences[\"temperature\"] = df_temperatures_balanced[\"temperature\"]\n",
    "\n",
    "df_sequences.head()"
   ]
  },
  {
   "cell_type": "markdown",
   "metadata": {},
   "source": [
    "Let's dig a bit more into our result dataset."
   ]
  },
  {
   "cell_type": "code",
   "execution_count": 14,
   "metadata": {},
   "outputs": [
    {
     "data": {
      "text/plain": [
       "Text(0.5, 1.0, 'Distribution of Protein Sequence Lengths')"
      ]
     },
     "execution_count": 14,
     "metadata": {},
     "output_type": "execute_result"
    },
    {
     "data": {
      "image/png": "[encoded data removed]",
      "text/plain": [
       "<Figure size 1000x600 with 1 Axes>"
      ]
     },
     "metadata": {},
     "output_type": "display_data"
    }
   ],
   "source": [
    "# Calculate sequence lengths\n",
    "sequence_lengths = df_sequences['sequence'].str.len()\n",
    "\n",
    "# Create histogram\n",
    "plt.figure(figsize=(10, 6))\n",
    "sns.histplot(data=sequence_lengths, bins=50)\n",
    "plt.xlabel('Sequence Length')\n",
    "plt.ylabel('Count')\n",
    "plt.title('Distribution of Protein Sequence Lengths')\n"
   ]
  },
  {
   "cell_type": "markdown",
   "metadata": {},
   "source": [
    "Our model API (https://models.ginkgobioworks.ai/) is priced per token. Tokens represent units of input that go into a model (e.g. words for text models). In the case of our protein models, tokens represent single amino acids."
   ]
  },
  {
   "cell_type": "code",
   "execution_count": 15,
   "metadata": {},
   "outputs": [
    {
     "name": "stdout",
     "output_type": "stream",
     "text": [
      "Total number of tokens in dataset: 538,146\n"
     ]
    }
   ],
   "source": [
    "# Calculate the total number of amino acids/tokens across all sequences\n",
    "total_amino_acids = df_sequences['sequence'].str.len().sum()\n",
    "print(f\"Total number of tokens in dataset: {total_amino_acids:,}\")\n"
   ]
  },
  {
   "cell_type": "markdown",
   "metadata": {},
   "source": [
    "Finally, we should split our data into a training set and a held-out test set, to see how well the model *generalizes* to unseen data. "
   ]
  },
  {
   "cell_type": "code",
   "execution_count": 16,
   "metadata": {},
   "outputs": [
    {
     "name": "stdout",
     "output_type": "stream",
     "text": [
      "Training set size: 1520\n",
      "Test set size: 380\n"
     ]
    }
   ],
   "source": [
    "from sklearn.model_selection import train_test_split\n",
    "\n",
    "# Create train/test split\n",
    "train_df, test_df = train_test_split(df_sequences, test_size=0.2, random_state=42)\n",
    "\n",
    "# Save to CSV files\n",
    "train_df.to_csv(\"../data/train_df.csv\", index=False)\n",
    "test_df.to_csv(\"../data/test_df.csv\", index=False)\n",
    "\n",
    "print(f\"Training set size: {len(train_df)}\")\n",
    "print(f\"Test set size: {len(test_df)}\")\n"
   ]
  }
 ],
 "metadata": {
  "kernelspec": {
   "display_name": "Python 3 (ipykernel)",
   "language": "python",
   "name": "python3"
  },
  "language_info": {
   "codemirror_mode": {
    "name": "ipython",
    "version": 3
   },
   "file_extension": ".py",
   "mimetype": "text/x-python",
   "name": "python",
   "nbconvert_exporter": "python",
   "pygments_lexer": "ipython3",
   "version": "3.11.10"
  }
 },
 "nbformat": 4,
 "nbformat_minor": 4
}
